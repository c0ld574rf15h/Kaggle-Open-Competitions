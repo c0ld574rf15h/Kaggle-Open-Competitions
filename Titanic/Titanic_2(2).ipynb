{
  "nbformat": 4,
  "nbformat_minor": 0,
  "metadata": {
    "colab": {
      "name": "Titanic_2(2).ipynb",
      "version": "0.3.2",
      "provenance": [],
      "collapsed_sections": [],
      "toc_visible": true
    },
    "kernelspec": {
      "name": "python3",
      "display_name": "Python 3"
    }
  },
  "cells": [
    {
      "cell_type": "markdown",
      "metadata": {
        "id": "R67m2dMRUbP-",
        "colab_type": "text"
      },
      "source": [
        "## Studying Titanic Kernels - Second Copy"
      ]
    },
    {
      "cell_type": "markdown",
      "metadata": {
        "id": "xjIs9MSrUmqX",
        "colab_type": "text"
      },
      "source": [
        "### Contents\n",
        "\n",
        "1. Load & Check Data\n",
        "2. Feature Analysis\n",
        "3. Filling Missing Values\n",
        "4. Feature Engineering\n",
        "5. Modeling"
      ]
    },
    {
      "cell_type": "markdown",
      "metadata": {
        "id": "EbK6d8eBUwP6",
        "colab_type": "text"
      },
      "source": [
        "## 1. Loading and Checking Data"
      ]
    },
    {
      "cell_type": "code",
      "metadata": {
        "id": "J1JAp5oSU0zw",
        "colab_type": "code",
        "colab": {}
      },
      "source": [
        "import pandas as pd\n",
        "\n",
        "train = pd.read_csv('./train.csv')\n",
        "test = pd.read_csv('./test.csv')\n",
        "IDtest = test.PassengerId"
      ],
      "execution_count": 0,
      "outputs": []
    },
    {
      "cell_type": "markdown",
      "metadata": {
        "id": "_CPCwxkzU8l9",
        "colab_type": "text"
      },
      "source": [
        "### Detecting Outliers"
      ]
    },
    {
      "cell_type": "code",
      "metadata": {
        "id": "1mXBKY6vU939",
        "colab_type": "code",
        "outputId": "4db97bc8-29a6-4f8f-85d9-244291a9d95e",
        "colab": {
          "base_uri": "https://localhost:8080/",
          "height": 71
        }
      },
      "source": [
        "import numpy as np\n",
        "from collections import Counter\n",
        "\n",
        "def detect_outliers(df, n, features):\n",
        "  outlier_indices = []\n",
        "  for feature in features:\n",
        "    Q1 = np.percentile(df[feature], 25)\n",
        "    Q3 = np.percentile(df[feature], 75)\n",
        "    IQR = Q3 - Q1\n",
        "    outlier_step = 1.5 * IQR\n",
        "    outlier_index = df[(df[feature]<Q1-outlier_step)|(df[feature]>Q3+outlier_step)].index\n",
        "    outlier_indices.extend(outlier_index)\n",
        "  outlier_indices = Counter(outlier_indices)\n",
        "  multiple_outliers = [k for k, v in outlier_indices.items() if v>n]\n",
        "  return multiple_outliers\n",
        "\n",
        "outliers_to_drop = detect_outliers(train, 2, ['Age', 'SibSp', 'Parch', 'Fare'])"
      ],
      "execution_count": 2,
      "outputs": [
        {
          "output_type": "stream",
          "text": [
            "/usr/local/lib/python3.6/dist-packages/numpy/lib/function_base.py:3826: RuntimeWarning: Invalid value encountered in percentile\n",
            "  interpolation=interpolation)\n"
          ],
          "name": "stderr"
        }
      ]
    },
    {
      "cell_type": "code",
      "metadata": {
        "id": "dioUV6uWWgRq",
        "colab_type": "code",
        "outputId": "cf01a8d5-16cf-4c9b-aef2-fbf6282cb8f1",
        "colab": {
          "base_uri": "https://localhost:8080/",
          "height": 529
        }
      },
      "source": [
        "train.loc[outliers_to_drop]"
      ],
      "execution_count": 3,
      "outputs": [
        {
          "output_type": "execute_result",
          "data": {
            "text/html": [
              "<div>\n",
              "<style scoped>\n",
              "    .dataframe tbody tr th:only-of-type {\n",
              "        vertical-align: middle;\n",
              "    }\n",
              "\n",
              "    .dataframe tbody tr th {\n",
              "        vertical-align: top;\n",
              "    }\n",
              "\n",
              "    .dataframe thead th {\n",
              "        text-align: right;\n",
              "    }\n",
              "</style>\n",
              "<table border=\"1\" class=\"dataframe\">\n",
              "  <thead>\n",
              "    <tr style=\"text-align: right;\">\n",
              "      <th></th>\n",
              "      <th>PassengerId</th>\n",
              "      <th>Survived</th>\n",
              "      <th>Pclass</th>\n",
              "      <th>Name</th>\n",
              "      <th>Sex</th>\n",
              "      <th>Age</th>\n",
              "      <th>SibSp</th>\n",
              "      <th>Parch</th>\n",
              "      <th>Ticket</th>\n",
              "      <th>Fare</th>\n",
              "      <th>Cabin</th>\n",
              "      <th>Embarked</th>\n",
              "    </tr>\n",
              "  </thead>\n",
              "  <tbody>\n",
              "    <tr>\n",
              "      <th>27</th>\n",
              "      <td>28</td>\n",
              "      <td>0</td>\n",
              "      <td>1</td>\n",
              "      <td>Fortune, Mr. Charles Alexander</td>\n",
              "      <td>male</td>\n",
              "      <td>19.0</td>\n",
              "      <td>3</td>\n",
              "      <td>2</td>\n",
              "      <td>19950</td>\n",
              "      <td>263.00</td>\n",
              "      <td>C23 C25 C27</td>\n",
              "      <td>S</td>\n",
              "    </tr>\n",
              "    <tr>\n",
              "      <th>88</th>\n",
              "      <td>89</td>\n",
              "      <td>1</td>\n",
              "      <td>1</td>\n",
              "      <td>Fortune, Miss. Mabel Helen</td>\n",
              "      <td>female</td>\n",
              "      <td>23.0</td>\n",
              "      <td>3</td>\n",
              "      <td>2</td>\n",
              "      <td>19950</td>\n",
              "      <td>263.00</td>\n",
              "      <td>C23 C25 C27</td>\n",
              "      <td>S</td>\n",
              "    </tr>\n",
              "    <tr>\n",
              "      <th>159</th>\n",
              "      <td>160</td>\n",
              "      <td>0</td>\n",
              "      <td>3</td>\n",
              "      <td>Sage, Master. Thomas Henry</td>\n",
              "      <td>male</td>\n",
              "      <td>NaN</td>\n",
              "      <td>8</td>\n",
              "      <td>2</td>\n",
              "      <td>CA. 2343</td>\n",
              "      <td>69.55</td>\n",
              "      <td>NaN</td>\n",
              "      <td>S</td>\n",
              "    </tr>\n",
              "    <tr>\n",
              "      <th>180</th>\n",
              "      <td>181</td>\n",
              "      <td>0</td>\n",
              "      <td>3</td>\n",
              "      <td>Sage, Miss. Constance Gladys</td>\n",
              "      <td>female</td>\n",
              "      <td>NaN</td>\n",
              "      <td>8</td>\n",
              "      <td>2</td>\n",
              "      <td>CA. 2343</td>\n",
              "      <td>69.55</td>\n",
              "      <td>NaN</td>\n",
              "      <td>S</td>\n",
              "    </tr>\n",
              "    <tr>\n",
              "      <th>201</th>\n",
              "      <td>202</td>\n",
              "      <td>0</td>\n",
              "      <td>3</td>\n",
              "      <td>Sage, Mr. Frederick</td>\n",
              "      <td>male</td>\n",
              "      <td>NaN</td>\n",
              "      <td>8</td>\n",
              "      <td>2</td>\n",
              "      <td>CA. 2343</td>\n",
              "      <td>69.55</td>\n",
              "      <td>NaN</td>\n",
              "      <td>S</td>\n",
              "    </tr>\n",
              "    <tr>\n",
              "      <th>324</th>\n",
              "      <td>325</td>\n",
              "      <td>0</td>\n",
              "      <td>3</td>\n",
              "      <td>Sage, Mr. George John Jr</td>\n",
              "      <td>male</td>\n",
              "      <td>NaN</td>\n",
              "      <td>8</td>\n",
              "      <td>2</td>\n",
              "      <td>CA. 2343</td>\n",
              "      <td>69.55</td>\n",
              "      <td>NaN</td>\n",
              "      <td>S</td>\n",
              "    </tr>\n",
              "    <tr>\n",
              "      <th>341</th>\n",
              "      <td>342</td>\n",
              "      <td>1</td>\n",
              "      <td>1</td>\n",
              "      <td>Fortune, Miss. Alice Elizabeth</td>\n",
              "      <td>female</td>\n",
              "      <td>24.0</td>\n",
              "      <td>3</td>\n",
              "      <td>2</td>\n",
              "      <td>19950</td>\n",
              "      <td>263.00</td>\n",
              "      <td>C23 C25 C27</td>\n",
              "      <td>S</td>\n",
              "    </tr>\n",
              "    <tr>\n",
              "      <th>792</th>\n",
              "      <td>793</td>\n",
              "      <td>0</td>\n",
              "      <td>3</td>\n",
              "      <td>Sage, Miss. Stella Anna</td>\n",
              "      <td>female</td>\n",
              "      <td>NaN</td>\n",
              "      <td>8</td>\n",
              "      <td>2</td>\n",
              "      <td>CA. 2343</td>\n",
              "      <td>69.55</td>\n",
              "      <td>NaN</td>\n",
              "      <td>S</td>\n",
              "    </tr>\n",
              "    <tr>\n",
              "      <th>846</th>\n",
              "      <td>847</td>\n",
              "      <td>0</td>\n",
              "      <td>3</td>\n",
              "      <td>Sage, Mr. Douglas Bullen</td>\n",
              "      <td>male</td>\n",
              "      <td>NaN</td>\n",
              "      <td>8</td>\n",
              "      <td>2</td>\n",
              "      <td>CA. 2343</td>\n",
              "      <td>69.55</td>\n",
              "      <td>NaN</td>\n",
              "      <td>S</td>\n",
              "    </tr>\n",
              "    <tr>\n",
              "      <th>863</th>\n",
              "      <td>864</td>\n",
              "      <td>0</td>\n",
              "      <td>3</td>\n",
              "      <td>Sage, Miss. Dorothy Edith \"Dolly\"</td>\n",
              "      <td>female</td>\n",
              "      <td>NaN</td>\n",
              "      <td>8</td>\n",
              "      <td>2</td>\n",
              "      <td>CA. 2343</td>\n",
              "      <td>69.55</td>\n",
              "      <td>NaN</td>\n",
              "      <td>S</td>\n",
              "    </tr>\n",
              "  </tbody>\n",
              "</table>\n",
              "</div>"
            ],
            "text/plain": [
              "     PassengerId  Survived  Pclass  ...    Fare        Cabin  Embarked\n",
              "27            28         0       1  ...  263.00  C23 C25 C27         S\n",
              "88            89         1       1  ...  263.00  C23 C25 C27         S\n",
              "159          160         0       3  ...   69.55          NaN         S\n",
              "180          181         0       3  ...   69.55          NaN         S\n",
              "201          202         0       3  ...   69.55          NaN         S\n",
              "324          325         0       3  ...   69.55          NaN         S\n",
              "341          342         1       1  ...  263.00  C23 C25 C27         S\n",
              "792          793         0       3  ...   69.55          NaN         S\n",
              "846          847         0       3  ...   69.55          NaN         S\n",
              "863          864         0       3  ...   69.55          NaN         S\n",
              "\n",
              "[10 rows x 12 columns]"
            ]
          },
          "metadata": {
            "tags": []
          },
          "execution_count": 3
        }
      ]
    },
    {
      "cell_type": "code",
      "metadata": {
        "id": "ov-SWdBKWmrj",
        "colab_type": "code",
        "colab": {}
      },
      "source": [
        "train = train.drop(outliers_to_drop, axis=0).reset_index(drop=True)"
      ],
      "execution_count": 0,
      "outputs": []
    },
    {
      "cell_type": "markdown",
      "metadata": {
        "id": "i0Cdb1S4XF3D",
        "colab_type": "text"
      },
      "source": [
        "### Joining the Two Datasets"
      ]
    },
    {
      "cell_type": "code",
      "metadata": {
        "id": "NfESaptMXQ4h",
        "colab_type": "code",
        "colab": {}
      },
      "source": [
        "train_len = len(train)\n",
        "dataset = pd.concat(objs=[train, test], axis=0, sort=True).reset_index(drop=True)"
      ],
      "execution_count": 0,
      "outputs": []
    },
    {
      "cell_type": "markdown",
      "metadata": {
        "id": "0Q-V127XXYeK",
        "colab_type": "text"
      },
      "source": [
        "### Checking Missing Values"
      ]
    },
    {
      "cell_type": "code",
      "metadata": {
        "id": "gaaVmYUxYynA",
        "colab_type": "code",
        "outputId": "7dd36716-b1ca-480b-bae7-7a3c2906b903",
        "colab": {
          "base_uri": "https://localhost:8080/",
          "height": 272
        }
      },
      "source": [
        "dataset.fillna(np.nan, inplace=True)\n",
        "print('train : {}'.format(train.shape))\n",
        "print('test : {}'.format(test.shape))\n",
        "dataset.isnull().sum()"
      ],
      "execution_count": 6,
      "outputs": [
        {
          "output_type": "stream",
          "text": [
            "train : (881, 12)\n",
            "test : (418, 11)\n"
          ],
          "name": "stdout"
        },
        {
          "output_type": "execute_result",
          "data": {
            "text/plain": [
              "Age             256\n",
              "Cabin          1007\n",
              "Embarked          2\n",
              "Fare              1\n",
              "Name              0\n",
              "Parch             0\n",
              "PassengerId       0\n",
              "Pclass            0\n",
              "Sex               0\n",
              "SibSp             0\n",
              "Survived        418\n",
              "Ticket            0\n",
              "dtype: int64"
            ]
          },
          "metadata": {
            "tags": []
          },
          "execution_count": 6
        }
      ]
    },
    {
      "cell_type": "code",
      "metadata": {
        "id": "ZBnKPrkcY2aT",
        "colab_type": "code",
        "outputId": "41252df9-36bc-46ae-f7d1-712800ee9079",
        "colab": {
          "base_uri": "https://localhost:8080/",
          "height": 306
        }
      },
      "source": [
        "train.info()"
      ],
      "execution_count": 7,
      "outputs": [
        {
          "output_type": "stream",
          "text": [
            "<class 'pandas.core.frame.DataFrame'>\n",
            "RangeIndex: 881 entries, 0 to 880\n",
            "Data columns (total 12 columns):\n",
            "PassengerId    881 non-null int64\n",
            "Survived       881 non-null int64\n",
            "Pclass         881 non-null int64\n",
            "Name           881 non-null object\n",
            "Sex            881 non-null object\n",
            "Age            711 non-null float64\n",
            "SibSp          881 non-null int64\n",
            "Parch          881 non-null int64\n",
            "Ticket         881 non-null object\n",
            "Fare           881 non-null float64\n",
            "Cabin          201 non-null object\n",
            "Embarked       879 non-null object\n",
            "dtypes: float64(2), int64(5), object(5)\n",
            "memory usage: 82.7+ KB\n"
          ],
          "name": "stdout"
        }
      ]
    },
    {
      "cell_type": "markdown",
      "metadata": {
        "id": "IvZ4uhMHZMeU",
        "colab_type": "text"
      },
      "source": [
        "## 2. Feature Analysis"
      ]
    },
    {
      "cell_type": "markdown",
      "metadata": {
        "id": "lHK6JFHeZypB",
        "colab_type": "text"
      },
      "source": [
        "### 1. Numerical Values"
      ]
    },
    {
      "cell_type": "code",
      "metadata": {
        "id": "_VRwTgXCZ1Tr",
        "colab_type": "code",
        "outputId": "afde33db-4644-4dc0-9870-4d0058d46ff1",
        "colab": {
          "base_uri": "https://localhost:8080/",
          "height": 378
        }
      },
      "source": [
        "import matplotlib.pyplot as plt\n",
        "import seaborn as sns\n",
        "\n",
        "sns.heatmap(train[['Survived', 'Pclass', 'Age', 'SibSp', 'Parch', 'Fare']].corr(), annot=True)\n",
        "fig = plt.gcf()\n",
        "fig.set_size_inches(8, 6)\n",
        "plt.show()"
      ],
      "execution_count": 8,
      "outputs": [
        {
          "output_type": "display_data",
          "data": {
            "image/png": "[encoded data removed]",
            "text/plain": [
              "<Figure size 576x432 with 2 Axes>"
            ]
          },
          "metadata": {
            "tags": []
          }
        }
      ]
    },
    {
      "cell_type": "code",
      "metadata": {
        "id": "vV8ZTRq2aL7U",
        "colab_type": "code",
        "outputId": "a295a83c-72ff-499a-a843-2a006bfe1835",
        "colab": {
          "base_uri": "https://localhost:8080/",
          "height": 295
        }
      },
      "source": [
        "sns.barplot('SibSp', 'Survived', data=train).set_title('Survival Rate with SibSp')\n",
        "plt.show()"
      ],
      "execution_count": 9,
      "outputs": [
        {
          "output_type": "display_data",
          "data": {
            "image/png": "[encoded data removed]",
            "text/plain": [
              "<Figure size 432x288 with 1 Axes>"
            ]
          },
          "metadata": {
            "tags": []
          }
        }
      ]
    },
    {
      "cell_type": "code",
      "metadata": {
        "id": "8lffSqSTaWU_",
        "colab_type": "code",
        "outputId": "9f84be49-f019-450e-addf-5db79feef74c",
        "colab": {
          "base_uri": "https://localhost:8080/",
          "height": 295
        }
      },
      "source": [
        "sns.barplot('Parch', 'Survived', data=train).set_title('Survival Rate with Parch')\n",
        "plt.show()"
      ],
      "execution_count": 10,
      "outputs": [
        {
          "output_type": "display_data",
          "data": {
            "image/png": "[encoded data removed]",
            "text/plain": [
              "<Figure size 432x288 with 1 Axes>"
            ]
          },
          "metadata": {
            "tags": []
          }
        }
      ]
    },
    {
      "cell_type": "code",
      "metadata": {
        "id": "dRpJ7Ki6aegc",
        "colab_type": "code",
        "outputId": "3cdd9b65-5275-4ea2-b4d6-c3693580d8d3",
        "colab": {
          "base_uri": "https://localhost:8080/",
          "height": 225
        }
      },
      "source": [
        "g = sns.FacetGrid(train, col='Survived')\n",
        "g = g.map(sns.distplot, 'Age')"
      ],
      "execution_count": 11,
      "outputs": [
        {
          "output_type": "display_data",
          "data": {
            "image/png": "[encoded data removed]",
            "text/plain": [
              "<Figure size 432x216 with 2 Axes>"
            ]
          },
          "metadata": {
            "tags": []
          }
        }
      ]
    },
    {
      "cell_type": "code",
      "metadata": {
        "id": "8pwdU2YrbZZ7",
        "colab_type": "code",
        "outputId": "c3564bf5-6b64-43f8-d473-07c85ddfb776",
        "colab": {
          "base_uri": "https://localhost:8080/",
          "height": 283
        }
      },
      "source": [
        "g = sns.kdeplot(train.loc[(train.Survived==0)&(train.Age.notnull()), 'Age'], color='Red', shade=True)\n",
        "g = sns.kdeplot(train.loc[(train.Survived==1)&(train.Age.notnull()), 'Age'], color='Blue', shade=True)\n",
        "g.set_xlabel('Age')\n",
        "g = g.legend(['Dead', 'Survived'])\n",
        "plt.show()"
      ],
      "execution_count": 12,
      "outputs": [
        {
          "output_type": "display_data",
          "data": {
            "image/png": "[encoded data removed]",
            "text/plain": [
              "<Figure size 432x288 with 1 Axes>"
            ]
          },
          "metadata": {
            "tags": []
          }
        }
      ]
    },
    {
      "cell_type": "code",
      "metadata": {
        "id": "Sk5TuN95b9zb",
        "colab_type": "code",
        "colab": {}
      },
      "source": [
        "dataset['Fare'].fillna(dataset['Fare'].median(), inplace=True)"
      ],
      "execution_count": 0,
      "outputs": []
    },
    {
      "cell_type": "code",
      "metadata": {
        "id": "x1Gc4DYwcH1t",
        "colab_type": "code",
        "outputId": "3033bbe4-5ae2-4046-fb6b-72ea6a7a3bbe",
        "colab": {
          "base_uri": "https://localhost:8080/",
          "height": 283
        }
      },
      "source": [
        "g = sns.distplot(dataset.Fare, label='Skewness : {:.2f}'.format(dataset.Fare.skew()))\n",
        "g = g.legend(loc='best')\n",
        "plt.show()"
      ],
      "execution_count": 14,
      "outputs": [
        {
          "output_type": "display_data",
          "data": {
            "image/png": "[encoded data removed]",
            "text/plain": [
              "<Figure size 432x288 with 1 Axes>"
            ]
          },
          "metadata": {
            "tags": []
          }
        }
      ]
    },
    {
      "cell_type": "code",
      "metadata": {
        "id": "TsKi9yEqcQJm",
        "colab_type": "code",
        "colab": {}
      },
      "source": [
        "dataset.Fare = dataset.Fare.map(lambda i: np.log(i) if i>0 else 0)"
      ],
      "execution_count": 0,
      "outputs": []
    },
    {
      "cell_type": "code",
      "metadata": {
        "id": "2fvymE9acWUv",
        "colab_type": "code",
        "outputId": "6343dc8a-3bf0-44de-ef7f-a078562275d7",
        "colab": {
          "base_uri": "https://localhost:8080/",
          "height": 283
        }
      },
      "source": [
        "g = sns.distplot(dataset.Fare, label='Skewness : {:.2f}'.format(dataset.Fare.skew()))\n",
        "g = g.legend(loc='best')\n",
        "plt.show()"
      ],
      "execution_count": 16,
      "outputs": [
        {
          "output_type": "display_data",
          "data": {
            "image/png": "[encoded data removed]",
            "text/plain": [
              "<Figure size 432x288 with 1 Axes>"
            ]
          },
          "metadata": {
            "tags": []
          }
        }
      ]
    },
    {
      "cell_type": "markdown",
      "metadata": {
        "id": "_MyLBU71cmcy",
        "colab_type": "text"
      },
      "source": [
        "### 2. Categorical Values"
      ]
    },
    {
      "cell_type": "code",
      "metadata": {
        "id": "kSZXQU_2cqUF",
        "colab_type": "code",
        "outputId": "fd4a6099-877a-4a39-c204-8d5b66015a75",
        "colab": {
          "base_uri": "https://localhost:8080/",
          "height": 283
        }
      },
      "source": [
        "sns.barplot('Sex', 'Survived', data=train)\n",
        "plt.show()"
      ],
      "execution_count": 17,
      "outputs": [
        {
          "output_type": "display_data",
          "data": {
            "image/png": "[encoded data removed]",
            "text/plain": [
              "<Figure size 432x288 with 1 Axes>"
            ]
          },
          "metadata": {
            "tags": []
          }
        }
      ]
    },
    {
      "cell_type": "code",
      "metadata": {
        "id": "FnxcXF4Ycvs1",
        "colab_type": "code",
        "outputId": "b0265569-e83a-40a1-c99b-625d48d3a451",
        "colab": {
          "base_uri": "https://localhost:8080/",
          "height": 142
        }
      },
      "source": [
        "train[['Sex', 'Survived']].groupby('Sex').mean()"
      ],
      "execution_count": 18,
      "outputs": [
        {
          "output_type": "execute_result",
          "data": {
            "text/html": [
              "<div>\n",
              "<style scoped>\n",
              "    .dataframe tbody tr th:only-of-type {\n",
              "        vertical-align: middle;\n",
              "    }\n",
              "\n",
              "    .dataframe tbody tr th {\n",
              "        vertical-align: top;\n",
              "    }\n",
              "\n",
              "    .dataframe thead th {\n",
              "        text-align: right;\n",
              "    }\n",
              "</style>\n",
              "<table border=\"1\" class=\"dataframe\">\n",
              "  <thead>\n",
              "    <tr style=\"text-align: right;\">\n",
              "      <th></th>\n",
              "      <th>Survived</th>\n",
              "    </tr>\n",
              "    <tr>\n",
              "      <th>Sex</th>\n",
              "      <th></th>\n",
              "    </tr>\n",
              "  </thead>\n",
              "  <tbody>\n",
              "    <tr>\n",
              "      <th>female</th>\n",
              "      <td>0.747573</td>\n",
              "    </tr>\n",
              "    <tr>\n",
              "      <th>male</th>\n",
              "      <td>0.190559</td>\n",
              "    </tr>\n",
              "  </tbody>\n",
              "</table>\n",
              "</div>"
            ],
            "text/plain": [
              "        Survived\n",
              "Sex             \n",
              "female  0.747573\n",
              "male    0.190559"
            ]
          },
          "metadata": {
            "tags": []
          },
          "execution_count": 18
        }
      ]
    },
    {
      "cell_type": "code",
      "metadata": {
        "id": "3_e0YxDEc6so",
        "colab_type": "code",
        "outputId": "c8bf6f3d-0ffa-44e3-9ffa-000e5d0c8027",
        "colab": {
          "base_uri": "https://localhost:8080/",
          "height": 283
        }
      },
      "source": [
        "fig, ax = plt.subplots(1, 2, figsize=(10, 4))\n",
        "\n",
        "sns.barplot('Pclass', 'Survived', data=train, ax=ax[0])\n",
        "sns.barplot('Pclass', 'Survived', hue='Sex', data=train, ax=ax[1])\n",
        "plt.show()"
      ],
      "execution_count": 19,
      "outputs": [
        {
          "output_type": "display_data",
          "data": {
            "image/png": "[encoded data removed]",
            "text/plain": [
              "<Figure size 720x288 with 2 Axes>"
            ]
          },
          "metadata": {
            "tags": []
          }
        }
      ]
    },
    {
      "cell_type": "code",
      "metadata": {
        "id": "pub6jmWEdHCk",
        "colab_type": "code",
        "outputId": "d727ccfa-9215-4ad0-88a9-935aa4c322b4",
        "colab": {
          "base_uri": "https://localhost:8080/",
          "height": 34
        }
      },
      "source": [
        "dataset.Embarked.isnull().sum()"
      ],
      "execution_count": 20,
      "outputs": [
        {
          "output_type": "execute_result",
          "data": {
            "text/plain": [
              "2"
            ]
          },
          "metadata": {
            "tags": []
          },
          "execution_count": 20
        }
      ]
    },
    {
      "cell_type": "code",
      "metadata": {
        "id": "CoUA-60bevhm",
        "colab_type": "code",
        "outputId": "be5b815b-6623-406c-a7e8-5ad8a5e3c842",
        "colab": {
          "base_uri": "https://localhost:8080/",
          "height": 34
        }
      },
      "source": [
        "dataset.Embarked.value_counts().idxmax()"
      ],
      "execution_count": 21,
      "outputs": [
        {
          "output_type": "execute_result",
          "data": {
            "text/plain": [
              "'S'"
            ]
          },
          "metadata": {
            "tags": []
          },
          "execution_count": 21
        }
      ]
    },
    {
      "cell_type": "code",
      "metadata": {
        "id": "UUF6C5gReysb",
        "colab_type": "code",
        "colab": {}
      },
      "source": [
        "dataset.Embarked.fillna('S', inplace=True)"
      ],
      "execution_count": 0,
      "outputs": []
    },
    {
      "cell_type": "code",
      "metadata": {
        "id": "QoDerjH1e1Gs",
        "colab_type": "code",
        "outputId": "c90a4e5d-04a3-4a16-e332-c27a7ab1fc8b",
        "colab": {
          "base_uri": "https://localhost:8080/",
          "height": 283
        }
      },
      "source": [
        "sns.barplot('Embarked', 'Survived', data=train)\n",
        "plt.show()"
      ],
      "execution_count": 23,
      "outputs": [
        {
          "output_type": "display_data",
          "data": {
            "image/png": "[encoded data removed]",
            "text/plain": [
              "<Figure size 432x288 with 1 Axes>"
            ]
          },
          "metadata": {
            "tags": []
          }
        }
      ]
    },
    {
      "cell_type": "code",
      "metadata": {
        "id": "6zlbDQa1e3eM",
        "colab_type": "code",
        "outputId": "6898d404-5fa6-4a84-b3df-65c3297fca81",
        "colab": {
          "base_uri": "https://localhost:8080/",
          "height": 295
        }
      },
      "source": [
        "fig, ax = plt.subplots(1, 3, figsize=(12, 4))\n",
        "\n",
        "sns.countplot('Pclass', data=train[train.Embarked=='S'], ax=ax[0])\n",
        "ax[0].set_title('Port S')\n",
        "\n",
        "sns.countplot('Pclass', data=train[train.Embarked=='C'], ax=ax[1])\n",
        "ax[1].set_title('Port C')\n",
        "\n",
        "sns.countplot('Pclass', data=train[train.Embarked=='Q'], ax=ax[2])\n",
        "ax[2].set_title('Port Q')\n",
        "\n",
        "plt.show()"
      ],
      "execution_count": 24,
      "outputs": [
        {
          "output_type": "display_data",
          "data": {
            "image/png": "[encoded data removed]",
            "text/plain": [
              "<Figure size 864x288 with 3 Axes>"
            ]
          },
          "metadata": {
            "tags": []
          }
        }
      ]
    },
    {
      "cell_type": "markdown",
      "metadata": {
        "id": "xiSR7agifLyK",
        "colab_type": "text"
      },
      "source": [
        "## 3. Filling Missing Values"
      ]
    },
    {
      "cell_type": "code",
      "metadata": {
        "id": "BvanCzKDfmOQ",
        "colab_type": "code",
        "outputId": "c12c233f-34de-4682-b821-18319fb60f80",
        "colab": {
          "base_uri": "https://localhost:8080/",
          "height": 609
        }
      },
      "source": [
        "fig, ax = plt.subplots(2, 2, figsize=(10, 10))\n",
        "\n",
        "\n",
        "sns.boxplot('Sex', 'Age', data=dataset, ax=ax[0, 0])\n",
        "sns.boxplot('Sex', 'Age', hue='Pclass', data=dataset, ax=ax[0, 1])\n",
        "sns.boxplot('Parch', 'Age', data=dataset, ax=ax[1, 0])\n",
        "sns.boxplot('SibSp', 'Age', data=dataset, ax=ax[1, 1])\n",
        "\n",
        "plt.show()"
      ],
      "execution_count": 25,
      "outputs": [
        {
          "output_type": "display_data",
          "data": {
            "image/png": "[encoded data removed]",
            "text/plain": [
              "<Figure size 720x720 with 4 Axes>"
            ]
          },
          "metadata": {
            "tags": []
          }
        }
      ]
    },
    {
      "cell_type": "code",
      "metadata": {
        "id": "RViil0bVwItN",
        "colab_type": "code",
        "colab": {}
      },
      "source": [
        "dataset.Sex.replace(['male', 'female'], [0, 1], inplace=True)"
      ],
      "execution_count": 0,
      "outputs": []
    },
    {
      "cell_type": "code",
      "metadata": {
        "id": "eA93P7rvwc-8",
        "colab_type": "code",
        "outputId": "8fd06f26-a621-498b-d9ed-3ccc38e24c3c",
        "colab": {
          "base_uri": "https://localhost:8080/",
          "height": 378
        }
      },
      "source": [
        "sns.heatmap(dataset[['Age', 'Sex', 'SibSp', 'Parch', 'Fare']].corr(), annot=True, fmt='.2f')\n",
        "fig = plt.gcf()\n",
        "fig.set_size_inches(8, 6)\n",
        "plt.show()"
      ],
      "execution_count": 27,
      "outputs": [
        {
          "output_type": "display_data",
          "data": {
            "image/png": "[encoded data removed]",
            "text/plain": [
              "<Figure size 576x432 with 2 Axes>"
            ]
          },
          "metadata": {
            "tags": []
          }
        }
      ]
    },
    {
      "cell_type": "code",
      "metadata": {
        "id": "eoVfmj_Twnmb",
        "colab_type": "code",
        "outputId": "de2e1453-5e8d-4d66-b458-4dbbbfdfac97",
        "colab": {
          "base_uri": "https://localhost:8080/",
          "height": 122
        }
      },
      "source": [
        "nan_age_index = list(dataset.loc[dataset.Age.isnull(), 'Age'].index)\n",
        "age_med = dataset.Age.median()\n",
        "\n",
        "for idx in nan_age_index:\n",
        "  pred = dataset.loc[(dataset.SibSp==dataset.iloc[idx]['SibSp'])&(dataset.Parch==dataset.iloc[idx]['Parch'])&(dataset.Pclass==dataset.iloc[idx]['Pclass']), 'Age'].median()\n",
        "  if np.isnan(pred):\n",
        "    dataset.Age.iloc[idx]=age_med\n",
        "  else:\n",
        "    dataset.Age.iloc[idx]=pred"
      ],
      "execution_count": 28,
      "outputs": [
        {
          "output_type": "stream",
          "text": [
            "/usr/local/lib/python3.6/dist-packages/pandas/core/indexing.py:190: SettingWithCopyWarning: \n",
            "A value is trying to be set on a copy of a slice from a DataFrame\n",
            "\n",
            "See the caveats in the documentation: http://pandas.pydata.org/pandas-docs/stable/indexing.html#indexing-view-versus-copy\n",
            "  self._setitem_with_indexer(indexer, value)\n"
          ],
          "name": "stderr"
        }
      ]
    },
    {
      "cell_type": "code",
      "metadata": {
        "id": "NWmZ_d0cxw7w",
        "colab_type": "code",
        "outputId": "2b0a7b5b-b3de-46a4-9861-e1bc557b515f",
        "colab": {
          "base_uri": "https://localhost:8080/",
          "height": 295
        }
      },
      "source": [
        "fig, ax = plt.subplots(1, 2, figsize=(8, 4))\n",
        "\n",
        "sns.boxplot('Survived', 'Age', data=train, ax=ax[0])\n",
        "ax[0].set_title('Age Distribution with Survival')\n",
        "\n",
        "sns.violinplot('Survived', 'Age', data=train, ax=ax[1])\n",
        "ax[1].set_title('Age Distribution with Survival')\n",
        "\n",
        "plt.show()"
      ],
      "execution_count": 29,
      "outputs": [
        {
          "output_type": "display_data",
          "data": {
            "image/png": "[encoded data removed]",
            "text/plain": [
              "<Figure size 576x288 with 2 Axes>"
            ]
          },
          "metadata": {
            "tags": []
          }
        }
      ]
    },
    {
      "cell_type": "markdown",
      "metadata": {
        "id": "_ug-3nNiyeDN",
        "colab_type": "text"
      },
      "source": [
        "## 4. Feature Engineering"
      ]
    },
    {
      "cell_type": "markdown",
      "metadata": {
        "id": "_B7MLhPe0NpH",
        "colab_type": "text"
      },
      "source": [
        "### 1. Name"
      ]
    },
    {
      "cell_type": "code",
      "metadata": {
        "id": "fu5UKJ8t0mDY",
        "colab_type": "code",
        "outputId": "396a71c9-13e2-41e4-bbea-c5d5032e2df0",
        "colab": {
          "base_uri": "https://localhost:8080/",
          "height": 119
        }
      },
      "source": [
        "dataset['Title'] = dataset['Name'].str.extract('([A-Za-z]+)\\.')\n",
        "dataset.Title.head()"
      ],
      "execution_count": 30,
      "outputs": [
        {
          "output_type": "execute_result",
          "data": {
            "text/plain": [
              "0      Mr\n",
              "1     Mrs\n",
              "2    Miss\n",
              "3     Mrs\n",
              "4      Mr\n",
              "Name: Title, dtype: object"
            ]
          },
          "metadata": {
            "tags": []
          },
          "execution_count": 30
        }
      ]
    },
    {
      "cell_type": "code",
      "metadata": {
        "id": "IqiUJZ520uOH",
        "colab_type": "code",
        "outputId": "b45b0913-9cbf-4d55-e4da-110ebbc722c1",
        "colab": {
          "base_uri": "https://localhost:8080/",
          "height": 313
        }
      },
      "source": [
        "g = sns.countplot('Title', data=dataset)\n",
        "fig = plt.gcf()\n",
        "fig.set_size_inches(8, 4)\n",
        "plt.setp(g.get_xticklabels(), rotation=45)\n",
        "plt.show()"
      ],
      "execution_count": 31,
      "outputs": [
        {
          "output_type": "display_data",
          "data": {
            "image/png": "[encoded data removed]",
            "text/plain": [
              "<Figure size 576x288 with 1 Axes>"
            ]
          },
          "metadata": {
            "tags": []
          }
        }
      ]
    },
    {
      "cell_type": "code",
      "metadata": {
        "id": "rB2jMIgR26rT",
        "colab_type": "code",
        "colab": {}
      },
      "source": [
        "dataset.Title.replace(\n",
        "  ['Lady', 'the Countess', 'Countess', 'Capt', 'Col', 'Don', 'Dr', 'Major', 'Rev', 'Sir', 'Jonkheer', 'Dona'],\n",
        "  'Rare', inplace=True\n",
        ")\n",
        "dataset['Title'] = dataset['Title'].map({'Master':0, 'Miss':1, 'Ms':1, 'Mme':1, 'Mlle':1, 'Mrs':1, 'Mr':2, 'Rare':3})\n",
        "dataset['Title'] = dataset['Title'].astype(int)"
      ],
      "execution_count": 0,
      "outputs": []
    },
    {
      "cell_type": "code",
      "metadata": {
        "id": "w-BSbADM31qi",
        "colab_type": "code",
        "outputId": "254ce9f9-f77c-4a12-f9ab-63c6bface21c",
        "colab": {
          "base_uri": "https://localhost:8080/",
          "height": 283
        }
      },
      "source": [
        "g = sns.countplot(dataset.Title)\n",
        "g = g.set_xticklabels(['Master', 'Women', 'Men', 'Rare'])\n",
        "plt.show()"
      ],
      "execution_count": 33,
      "outputs": [
        {
          "output_type": "display_data",
          "data": {
            "image/png": "[encoded data removed]",
            "text/plain": [
              "<Figure size 432x288 with 1 Axes>"
            ]
          },
          "metadata": {
            "tags": []
          }
        }
      ]
    },
    {
      "cell_type": "code",
      "metadata": {
        "id": "ynupL_me4voR",
        "colab_type": "code",
        "outputId": "c9e0e0fe-3184-4b87-92b5-11eaeeddbd45",
        "colab": {
          "base_uri": "https://localhost:8080/",
          "height": 283
        }
      },
      "source": [
        "g = sns.barplot('Title', 'Survived', data=dataset)\n",
        "g.set_xticklabels(['Master', 'Women', 'Men', 'Rare'])\n",
        "plt.show()"
      ],
      "execution_count": 34,
      "outputs": [
        {
          "output_type": "display_data",
          "data": {
            "image/png": "[encoded data removed]",
            "text/plain": [
              "<Figure size 432x288 with 1 Axes>"
            ]
          },
          "metadata": {
            "tags": []
          }
        }
      ]
    },
    {
      "cell_type": "code",
      "metadata": {
        "id": "gpBLRH-J4_Mp",
        "colab_type": "code",
        "colab": {}
      },
      "source": [
        "dataset.drop('Name', axis=1, inplace=True)"
      ],
      "execution_count": 0,
      "outputs": []
    },
    {
      "cell_type": "markdown",
      "metadata": {
        "id": "qEIrlaZ75fJ2",
        "colab_type": "text"
      },
      "source": [
        "### 2. Family Size"
      ]
    },
    {
      "cell_type": "code",
      "metadata": {
        "id": "gBj4Awtb5gMY",
        "colab_type": "code",
        "colab": {}
      },
      "source": [
        "dataset['Fsize'] = dataset['Parch'] + dataset['SibSp'] + 1"
      ],
      "execution_count": 0,
      "outputs": []
    },
    {
      "cell_type": "code",
      "metadata": {
        "id": "iqckGT1x5j5l",
        "colab_type": "code",
        "outputId": "6b4e41d1-9e7f-455f-e5ad-80a7858e4e37",
        "colab": {
          "base_uri": "https://localhost:8080/",
          "height": 423
        }
      },
      "source": [
        "sns.factorplot('Fsize', 'Survived', data=dataset)\n",
        "plt.show()"
      ],
      "execution_count": 37,
      "outputs": [
        {
          "output_type": "stream",
          "text": [
            "/usr/local/lib/python3.6/dist-packages/seaborn/categorical.py:3666: UserWarning: The `factorplot` function has been renamed to `catplot`. The original name will be removed in a future release. Please update your code. Note that the default `kind` in `factorplot` (`'point'`) has changed `'strip'` in `catplot`.\n",
            "  warnings.warn(msg)\n"
          ],
          "name": "stderr"
        },
        {
          "output_type": "display_data",
          "data": {
            "image/png": "[encoded data removed]",
            "text/plain": [
              "<Figure size 360x360 with 1 Axes>"
            ]
          },
          "metadata": {
            "tags": []
          }
        }
      ]
    },
    {
      "cell_type": "code",
      "metadata": {
        "id": "4c6MpCBL5nAw",
        "colab_type": "code",
        "colab": {}
      },
      "source": [
        "dataset['Single'], dataset['SmallF'], dataset['MedF'], dataset['LargeF'] = 0, 0, 0, 0\n",
        "dataset.loc[dataset.Fsize==1, 'Single']=1\n",
        "dataset.loc[dataset.Fsize==2, 'SmallF']=1\n",
        "dataset.loc[(dataset.Fsize>=3)&(dataset.Fsize<=4), 'MedF']=1\n",
        "dataset.loc[dataset.Fsize>=5, 'LargeF']=1"
      ],
      "execution_count": 0,
      "outputs": []
    },
    {
      "cell_type": "code",
      "metadata": {
        "id": "DdbHS7A16Li1",
        "colab_type": "code",
        "outputId": "cb00789d-656b-4b8e-9fdb-ee79a974e477",
        "colab": {
          "base_uri": "https://localhost:8080/",
          "height": 621
        }
      },
      "source": [
        "fig, ax = plt.subplots(2, 2, figsize=(10, 10))\n",
        "\n",
        "sns.barplot('Single', 'Survived', data=dataset, ax=ax[0, 0])\n",
        "ax[0, 0].set_title('Survival Rate with Single Passengers')\n",
        "\n",
        "sns.barplot('SmallF', 'Survived', data=dataset, ax=ax[0, 1])\n",
        "ax[0, 1].set_title('Survival Rate with Small Families')\n",
        "\n",
        "sns.barplot('MedF', 'Survived', data=dataset, ax=ax[1, 0])\n",
        "ax[1, 0].set_title('Survival Rate with Medium Families')\n",
        "\n",
        "sns.barplot('LargeF', 'Survived', data=dataset, ax=ax[1, 1])\n",
        "ax[1, 1].set_title('Survival Rate with Large Families')\n",
        "\n",
        "plt.show()"
      ],
      "execution_count": 39,
      "outputs": [
        {
          "output_type": "display_data",
          "data": {
            "image/png": "[encoded data removed]",
            "text/plain": [
              "<Figure size 720x720 with 4 Axes>"
            ]
          },
          "metadata": {
            "tags": []
          }
        }
      ]
    },
    {
      "cell_type": "code",
      "metadata": {
        "id": "7EpUeN736jHB",
        "colab_type": "code",
        "colab": {}
      },
      "source": [
        "dataset = pd.get_dummies(dataset, columns=['Title'])\n",
        "dataset = pd.get_dummies(dataset, columns=['Embarked'], prefix='Em')"
      ],
      "execution_count": 0,
      "outputs": []
    },
    {
      "cell_type": "code",
      "metadata": {
        "id": "uYO4OoRL6t8d",
        "colab_type": "code",
        "outputId": "28f3e720-ee2a-4484-9f68-4e4799035d94",
        "colab": {
          "base_uri": "https://localhost:8080/",
          "height": 241
        }
      },
      "source": [
        "dataset.head()"
      ],
      "execution_count": 41,
      "outputs": [
        {
          "output_type": "execute_result",
          "data": {
            "text/html": [
              "<div>\n",
              "<style scoped>\n",
              "    .dataframe tbody tr th:only-of-type {\n",
              "        vertical-align: middle;\n",
              "    }\n",
              "\n",
              "    .dataframe tbody tr th {\n",
              "        vertical-align: top;\n",
              "    }\n",
              "\n",
              "    .dataframe thead th {\n",
              "        text-align: right;\n",
              "    }\n",
              "</style>\n",
              "<table border=\"1\" class=\"dataframe\">\n",
              "  <thead>\n",
              "    <tr style=\"text-align: right;\">\n",
              "      <th></th>\n",
              "      <th>Age</th>\n",
              "      <th>Cabin</th>\n",
              "      <th>Fare</th>\n",
              "      <th>Parch</th>\n",
              "      <th>PassengerId</th>\n",
              "      <th>Pclass</th>\n",
              "      <th>Sex</th>\n",
              "      <th>SibSp</th>\n",
              "      <th>Survived</th>\n",
              "      <th>Ticket</th>\n",
              "      <th>Fsize</th>\n",
              "      <th>Single</th>\n",
              "      <th>SmallF</th>\n",
              "      <th>MedF</th>\n",
              "      <th>LargeF</th>\n",
              "      <th>Title_0</th>\n",
              "      <th>Title_1</th>\n",
              "      <th>Title_2</th>\n",
              "      <th>Title_3</th>\n",
              "      <th>Em_C</th>\n",
              "      <th>Em_Q</th>\n",
              "      <th>Em_S</th>\n",
              "    </tr>\n",
              "  </thead>\n",
              "  <tbody>\n",
              "    <tr>\n",
              "      <th>0</th>\n",
              "      <td>22.0</td>\n",
              "      <td>NaN</td>\n",
              "      <td>1.981001</td>\n",
              "      <td>0</td>\n",
              "      <td>1</td>\n",
              "      <td>3</td>\n",
              "      <td>0</td>\n",
              "      <td>1</td>\n",
              "      <td>0.0</td>\n",
              "      <td>A/5 21171</td>\n",
              "      <td>2</td>\n",
              "      <td>0</td>\n",
              "      <td>1</td>\n",
              "      <td>0</td>\n",
              "      <td>0</td>\n",
              "      <td>0</td>\n",
              "      <td>0</td>\n",
              "      <td>1</td>\n",
              "      <td>0</td>\n",
              "      <td>0</td>\n",
              "      <td>0</td>\n",
              "      <td>1</td>\n",
              "    </tr>\n",
              "    <tr>\n",
              "      <th>1</th>\n",
              "      <td>38.0</td>\n",
              "      <td>C85</td>\n",
              "      <td>4.266662</td>\n",
              "      <td>0</td>\n",
              "      <td>2</td>\n",
              "      <td>1</td>\n",
              "      <td>1</td>\n",
              "      <td>1</td>\n",
              "      <td>1.0</td>\n",
              "      <td>PC 17599</td>\n",
              "      <td>2</td>\n",
              "      <td>0</td>\n",
              "      <td>1</td>\n",
              "      <td>0</td>\n",
              "      <td>0</td>\n",
              "      <td>0</td>\n",
              "      <td>1</td>\n",
              "      <td>0</td>\n",
              "      <td>0</td>\n",
              "      <td>1</td>\n",
              "      <td>0</td>\n",
              "      <td>0</td>\n",
              "    </tr>\n",
              "    <tr>\n",
              "      <th>2</th>\n",
              "      <td>26.0</td>\n",
              "      <td>NaN</td>\n",
              "      <td>2.070022</td>\n",
              "      <td>0</td>\n",
              "      <td>3</td>\n",
              "      <td>3</td>\n",
              "      <td>1</td>\n",
              "      <td>0</td>\n",
              "      <td>1.0</td>\n",
              "      <td>STON/O2. 3101282</td>\n",
              "      <td>1</td>\n",
              "      <td>1</td>\n",
              "      <td>0</td>\n",
              "      <td>0</td>\n",
              "      <td>0</td>\n",
              "      <td>0</td>\n",
              "      <td>1</td>\n",
              "      <td>0</td>\n",
              "      <td>0</td>\n",
              "      <td>0</td>\n",
              "      <td>0</td>\n",
              "      <td>1</td>\n",
              "    </tr>\n",
              "    <tr>\n",
              "      <th>3</th>\n",
              "      <td>35.0</td>\n",
              "      <td>C123</td>\n",
              "      <td>3.972177</td>\n",
              "      <td>0</td>\n",
              "      <td>4</td>\n",
              "      <td>1</td>\n",
              "      <td>1</td>\n",
              "      <td>1</td>\n",
              "      <td>1.0</td>\n",
              "      <td>113803</td>\n",
              "      <td>2</td>\n",
              "      <td>0</td>\n",
              "      <td>1</td>\n",
              "      <td>0</td>\n",
              "      <td>0</td>\n",
              "      <td>0</td>\n",
              "      <td>1</td>\n",
              "      <td>0</td>\n",
              "      <td>0</td>\n",
              "      <td>0</td>\n",
              "      <td>0</td>\n",
              "      <td>1</td>\n",
              "    </tr>\n",
              "    <tr>\n",
              "      <th>4</th>\n",
              "      <td>35.0</td>\n",
              "      <td>NaN</td>\n",
              "      <td>2.085672</td>\n",
              "      <td>0</td>\n",
              "      <td>5</td>\n",
              "      <td>3</td>\n",
              "      <td>0</td>\n",
              "      <td>0</td>\n",
              "      <td>0.0</td>\n",
              "      <td>373450</td>\n",
              "      <td>1</td>\n",
              "      <td>1</td>\n",
              "      <td>0</td>\n",
              "      <td>0</td>\n",
              "      <td>0</td>\n",
              "      <td>0</td>\n",
              "      <td>0</td>\n",
              "      <td>1</td>\n",
              "      <td>0</td>\n",
              "      <td>0</td>\n",
              "      <td>0</td>\n",
              "      <td>1</td>\n",
              "    </tr>\n",
              "  </tbody>\n",
              "</table>\n",
              "</div>"
            ],
            "text/plain": [
              "    Age Cabin      Fare  Parch  PassengerId  ...  Title_2  Title_3  Em_C  Em_Q Em_S\n",
              "0  22.0   NaN  1.981001      0            1  ...        1        0     0     0    1\n",
              "1  38.0   C85  4.266662      0            2  ...        0        0     1     0    0\n",
              "2  26.0   NaN  2.070022      0            3  ...        0        0     0     0    1\n",
              "3  35.0  C123  3.972177      0            4  ...        0        0     0     0    1\n",
              "4  35.0   NaN  2.085672      0            5  ...        1        0     0     0    1\n",
              "\n",
              "[5 rows x 22 columns]"
            ]
          },
          "metadata": {
            "tags": []
          },
          "execution_count": 41
        }
      ]
    },
    {
      "cell_type": "markdown",
      "metadata": {
        "id": "YscJJ1yh6ujg",
        "colab_type": "text"
      },
      "source": [
        "### 3. Cabin"
      ]
    },
    {
      "cell_type": "code",
      "metadata": {
        "id": "ce9figxs6yLo",
        "colab_type": "code",
        "outputId": "8afaf6c8-037d-4ff1-a325-6413188079ee",
        "colab": {
          "base_uri": "https://localhost:8080/",
          "height": 102
        }
      },
      "source": [
        "dataset['Cabin'].describe()"
      ],
      "execution_count": 42,
      "outputs": [
        {
          "output_type": "execute_result",
          "data": {
            "text/plain": [
              "count     292\n",
              "unique    186\n",
              "top        G6\n",
              "freq        5\n",
              "Name: Cabin, dtype: object"
            ]
          },
          "metadata": {
            "tags": []
          },
          "execution_count": 42
        }
      ]
    },
    {
      "cell_type": "code",
      "metadata": {
        "id": "Vy9D4tGf658G",
        "colab_type": "code",
        "outputId": "e4e78356-4dc4-4eaf-d560-d2d6312ce9ee",
        "colab": {
          "base_uri": "https://localhost:8080/",
          "height": 34
        }
      },
      "source": [
        "dataset.Cabin.isnull().sum()"
      ],
      "execution_count": 43,
      "outputs": [
        {
          "output_type": "execute_result",
          "data": {
            "text/plain": [
              "1007"
            ]
          },
          "metadata": {
            "tags": []
          },
          "execution_count": 43
        }
      ]
    },
    {
      "cell_type": "code",
      "metadata": {
        "id": "Kby7yVoO7BZt",
        "colab_type": "code",
        "outputId": "8129ac86-4875-4a34-947a-480d5f0a090c",
        "colab": {
          "base_uri": "https://localhost:8080/",
          "height": 119
        }
      },
      "source": [
        "dataset.loc[dataset.Cabin.notnull(), 'Cabin'].head()"
      ],
      "execution_count": 44,
      "outputs": [
        {
          "output_type": "execute_result",
          "data": {
            "text/plain": [
              "1      C85\n",
              "3     C123\n",
              "6      E46\n",
              "10      G6\n",
              "11    C103\n",
              "Name: Cabin, dtype: object"
            ]
          },
          "metadata": {
            "tags": []
          },
          "execution_count": 44
        }
      ]
    },
    {
      "cell_type": "code",
      "metadata": {
        "id": "f1AF8Huy7GM4",
        "colab_type": "code",
        "colab": {}
      },
      "source": [
        "dataset['Cabin'] = pd.Series(i[0] if not pd.isnull(i) else 'X' for i in dataset.Cabin)"
      ],
      "execution_count": 0,
      "outputs": []
    },
    {
      "cell_type": "code",
      "metadata": {
        "id": "18MSFyzW7OJJ",
        "colab_type": "code",
        "outputId": "e91c5f1b-82b7-4be9-cb69-ddced14cad95",
        "colab": {
          "base_uri": "https://localhost:8080/",
          "height": 283
        }
      },
      "source": [
        "sns.countplot(dataset.Cabin, order=['A', 'B', 'C', 'D', 'E', 'F', 'G', 'T', 'X'])\n",
        "plt.show()"
      ],
      "execution_count": 46,
      "outputs": [
        {
          "output_type": "display_data",
          "data": {
            "image/png": "[encoded data removed]",
            "text/plain": [
              "<Figure size 432x288 with 1 Axes>"
            ]
          },
          "metadata": {
            "tags": []
          }
        }
      ]
    },
    {
      "cell_type": "code",
      "metadata": {
        "id": "Rs0vMVaH7XQP",
        "colab_type": "code",
        "outputId": "35536366-38fb-44a3-ebe3-8d4e30280faf",
        "colab": {
          "base_uri": "https://localhost:8080/",
          "height": 283
        }
      },
      "source": [
        "sns.barplot('Cabin', 'Survived', data=dataset, order=['A', 'B', 'C', 'D', 'E', 'F', 'G', 'T', 'X'])\n",
        "plt.show()"
      ],
      "execution_count": 47,
      "outputs": [
        {
          "output_type": "display_data",
          "data": {
            "image/png": "[encoded data removed]",
            "text/plain": [
              "<Figure size 432x288 with 1 Axes>"
            ]
          },
          "metadata": {
            "tags": []
          }
        }
      ]
    },
    {
      "cell_type": "code",
      "metadata": {
        "id": "a_CkOo_K7dgs",
        "colab_type": "code",
        "colab": {}
      },
      "source": [
        "dataset = pd.get_dummies(dataset, columns=['Cabin'], prefix='Cabin')"
      ],
      "execution_count": 0,
      "outputs": []
    },
    {
      "cell_type": "markdown",
      "metadata": {
        "id": "E_qvd0L67iQ5",
        "colab_type": "text"
      },
      "source": [
        "### 4. Ticket"
      ]
    },
    {
      "cell_type": "code",
      "metadata": {
        "id": "WKRUtzHw7jKA",
        "colab_type": "code",
        "outputId": "f0c1db4f-2f3f-4962-a5d4-ea597ae15b58",
        "colab": {
          "base_uri": "https://localhost:8080/",
          "height": 119
        }
      },
      "source": [
        "dataset.Ticket.head()"
      ],
      "execution_count": 49,
      "outputs": [
        {
          "output_type": "execute_result",
          "data": {
            "text/plain": [
              "0           A/5 21171\n",
              "1            PC 17599\n",
              "2    STON/O2. 3101282\n",
              "3              113803\n",
              "4              373450\n",
              "Name: Ticket, dtype: object"
            ]
          },
          "metadata": {
            "tags": []
          },
          "execution_count": 49
        }
      ]
    },
    {
      "cell_type": "code",
      "metadata": {
        "id": "WqBcfdbs7krm",
        "colab_type": "code",
        "outputId": "139465f7-d557-4472-8144-646084fb0a98",
        "colab": {
          "base_uri": "https://localhost:8080/",
          "height": 119
        }
      },
      "source": [
        "Ticket = []\n",
        "\n",
        "for t in list(dataset.Ticket):\n",
        "  if t.isdigit():\n",
        "    Ticket.append('X')\n",
        "  else:\n",
        "    Ticket.append(t.replace('/', '').replace('.', '').strip().split(' ')[0])\n",
        "    \n",
        "dataset['Ticket'] = Ticket\n",
        "dataset.Ticket.head()"
      ],
      "execution_count": 50,
      "outputs": [
        {
          "output_type": "execute_result",
          "data": {
            "text/plain": [
              "0        A5\n",
              "1        PC\n",
              "2    STONO2\n",
              "3         X\n",
              "4         X\n",
              "Name: Ticket, dtype: object"
            ]
          },
          "metadata": {
            "tags": []
          },
          "execution_count": 50
        }
      ]
    },
    {
      "cell_type": "code",
      "metadata": {
        "id": "7UtPxjkF71gY",
        "colab_type": "code",
        "colab": {}
      },
      "source": [
        "dataset = pd.get_dummies(dataset, columns=['Ticket'], prefix='T')"
      ],
      "execution_count": 0,
      "outputs": []
    },
    {
      "cell_type": "code",
      "metadata": {
        "id": "5DOgspst752l",
        "colab_type": "code",
        "colab": {}
      },
      "source": [
        "dataset['Pclass'] = dataset['Pclass'].astype('category')\n",
        "dataset = pd.get_dummies(dataset, columns=['Pclass'], prefix='Pc')"
      ],
      "execution_count": 0,
      "outputs": []
    },
    {
      "cell_type": "code",
      "metadata": {
        "id": "g43mYxdo8Bfj",
        "colab_type": "code",
        "colab": {}
      },
      "source": [
        "dataset.drop('PassengerId', axis=1, inplace=True)"
      ],
      "execution_count": 0,
      "outputs": []
    },
    {
      "cell_type": "code",
      "metadata": {
        "id": "33HnwGYg8Dzl",
        "colab_type": "code",
        "outputId": "6d439c1b-cc63-4647-8581-adb3fc9e29e4",
        "colab": {
          "base_uri": "https://localhost:8080/",
          "height": 224
        }
      },
      "source": [
        "dataset.head()"
      ],
      "execution_count": 54,
      "outputs": [
        {
          "output_type": "execute_result",
          "data": {
            "text/html": [
              "<div>\n",
              "<style scoped>\n",
              "    .dataframe tbody tr th:only-of-type {\n",
              "        vertical-align: middle;\n",
              "    }\n",
              "\n",
              "    .dataframe tbody tr th {\n",
              "        vertical-align: top;\n",
              "    }\n",
              "\n",
              "    .dataframe thead th {\n",
              "        text-align: right;\n",
              "    }\n",
              "</style>\n",
              "<table border=\"1\" class=\"dataframe\">\n",
              "  <thead>\n",
              "    <tr style=\"text-align: right;\">\n",
              "      <th></th>\n",
              "      <th>Age</th>\n",
              "      <th>Fare</th>\n",
              "      <th>Parch</th>\n",
              "      <th>Sex</th>\n",
              "      <th>SibSp</th>\n",
              "      <th>Survived</th>\n",
              "      <th>Fsize</th>\n",
              "      <th>Single</th>\n",
              "      <th>SmallF</th>\n",
              "      <th>MedF</th>\n",
              "      <th>LargeF</th>\n",
              "      <th>Title_0</th>\n",
              "      <th>Title_1</th>\n",
              "      <th>Title_2</th>\n",
              "      <th>Title_3</th>\n",
              "      <th>Em_C</th>\n",
              "      <th>Em_Q</th>\n",
              "      <th>Em_S</th>\n",
              "      <th>Cabin_A</th>\n",
              "      <th>Cabin_B</th>\n",
              "      <th>Cabin_C</th>\n",
              "      <th>Cabin_D</th>\n",
              "      <th>Cabin_E</th>\n",
              "      <th>Cabin_F</th>\n",
              "      <th>Cabin_G</th>\n",
              "      <th>Cabin_T</th>\n",
              "      <th>Cabin_X</th>\n",
              "      <th>T_A</th>\n",
              "      <th>T_A4</th>\n",
              "      <th>T_A5</th>\n",
              "      <th>T_AQ3</th>\n",
              "      <th>T_AQ4</th>\n",
              "      <th>T_AS</th>\n",
              "      <th>T_C</th>\n",
              "      <th>T_CA</th>\n",
              "      <th>T_CASOTON</th>\n",
              "      <th>T_FC</th>\n",
              "      <th>T_FCC</th>\n",
              "      <th>T_Fa</th>\n",
              "      <th>T_LINE</th>\n",
              "      <th>T_LP</th>\n",
              "      <th>T_PC</th>\n",
              "      <th>T_PP</th>\n",
              "      <th>T_PPP</th>\n",
              "      <th>T_SC</th>\n",
              "      <th>T_SCA3</th>\n",
              "      <th>T_SCA4</th>\n",
              "      <th>T_SCAH</th>\n",
              "      <th>T_SCOW</th>\n",
              "      <th>T_SCPARIS</th>\n",
              "      <th>T_SCParis</th>\n",
              "      <th>T_SOC</th>\n",
              "      <th>T_SOP</th>\n",
              "      <th>T_SOPP</th>\n",
              "      <th>T_SOTONO2</th>\n",
              "      <th>T_SOTONOQ</th>\n",
              "      <th>T_SP</th>\n",
              "      <th>T_STONO</th>\n",
              "      <th>T_STONO2</th>\n",
              "      <th>T_STONOQ</th>\n",
              "      <th>T_SWPP</th>\n",
              "      <th>T_WC</th>\n",
              "      <th>T_WEP</th>\n",
              "      <th>T_X</th>\n",
              "      <th>Pc_1</th>\n",
              "      <th>Pc_2</th>\n",
              "      <th>Pc_3</th>\n",
              "    </tr>\n",
              "  </thead>\n",
              "  <tbody>\n",
              "    <tr>\n",
              "      <th>0</th>\n",
              "      <td>22.0</td>\n",
              "      <td>1.981001</td>\n",
              "      <td>0</td>\n",
              "      <td>0</td>\n",
              "      <td>1</td>\n",
              "      <td>0.0</td>\n",
              "      <td>2</td>\n",
              "      <td>0</td>\n",
              "      <td>1</td>\n",
              "      <td>0</td>\n",
              "      <td>0</td>\n",
              "      <td>0</td>\n",
              "      <td>0</td>\n",
              "      <td>1</td>\n",
              "      <td>0</td>\n",
              "      <td>0</td>\n",
              "      <td>0</td>\n",
              "      <td>1</td>\n",
              "      <td>0</td>\n",
              "      <td>0</td>\n",
              "      <td>0</td>\n",
              "      <td>0</td>\n",
              "      <td>0</td>\n",
              "      <td>0</td>\n",
              "      <td>0</td>\n",
              "      <td>0</td>\n",
              "      <td>1</td>\n",
              "      <td>0</td>\n",
              "      <td>0</td>\n",
              "      <td>1</td>\n",
              "      <td>0</td>\n",
              "      <td>0</td>\n",
              "      <td>0</td>\n",
              "      <td>0</td>\n",
              "      <td>0</td>\n",
              "      <td>0</td>\n",
              "      <td>0</td>\n",
              "      <td>0</td>\n",
              "      <td>0</td>\n",
              "      <td>0</td>\n",
              "      <td>0</td>\n",
              "      <td>0</td>\n",
              "      <td>0</td>\n",
              "      <td>0</td>\n",
              "      <td>0</td>\n",
              "      <td>0</td>\n",
              "      <td>0</td>\n",
              "      <td>0</td>\n",
              "      <td>0</td>\n",
              "      <td>0</td>\n",
              "      <td>0</td>\n",
              "      <td>0</td>\n",
              "      <td>0</td>\n",
              "      <td>0</td>\n",
              "      <td>0</td>\n",
              "      <td>0</td>\n",
              "      <td>0</td>\n",
              "      <td>0</td>\n",
              "      <td>0</td>\n",
              "      <td>0</td>\n",
              "      <td>0</td>\n",
              "      <td>0</td>\n",
              "      <td>0</td>\n",
              "      <td>0</td>\n",
              "      <td>0</td>\n",
              "      <td>0</td>\n",
              "      <td>1</td>\n",
              "    </tr>\n",
              "    <tr>\n",
              "      <th>1</th>\n",
              "      <td>38.0</td>\n",
              "      <td>4.266662</td>\n",
              "      <td>0</td>\n",
              "      <td>1</td>\n",
              "      <td>1</td>\n",
              "      <td>1.0</td>\n",
              "      <td>2</td>\n",
              "      <td>0</td>\n",
              "      <td>1</td>\n",
              "      <td>0</td>\n",
              "      <td>0</td>\n",
              "      <td>0</td>\n",
              "      <td>1</td>\n",
              "      <td>0</td>\n",
              "      <td>0</td>\n",
              "      <td>1</td>\n",
              "      <td>0</td>\n",
              "      <td>0</td>\n",
              "      <td>0</td>\n",
              "      <td>0</td>\n",
              "      <td>1</td>\n",
              "      <td>0</td>\n",
              "      <td>0</td>\n",
              "      <td>0</td>\n",
              "      <td>0</td>\n",
              "      <td>0</td>\n",
              "      <td>0</td>\n",
              "      <td>0</td>\n",
              "      <td>0</td>\n",
              "      <td>0</td>\n",
              "      <td>0</td>\n",
              "      <td>0</td>\n",
              "      <td>0</td>\n",
              "      <td>0</td>\n",
              "      <td>0</td>\n",
              "      <td>0</td>\n",
              "      <td>0</td>\n",
              "      <td>0</td>\n",
              "      <td>0</td>\n",
              "      <td>0</td>\n",
              "      <td>0</td>\n",
              "      <td>1</td>\n",
              "      <td>0</td>\n",
              "      <td>0</td>\n",
              "      <td>0</td>\n",
              "      <td>0</td>\n",
              "      <td>0</td>\n",
              "      <td>0</td>\n",
              "      <td>0</td>\n",
              "      <td>0</td>\n",
              "      <td>0</td>\n",
              "      <td>0</td>\n",
              "      <td>0</td>\n",
              "      <td>0</td>\n",
              "      <td>0</td>\n",
              "      <td>0</td>\n",
              "      <td>0</td>\n",
              "      <td>0</td>\n",
              "      <td>0</td>\n",
              "      <td>0</td>\n",
              "      <td>0</td>\n",
              "      <td>0</td>\n",
              "      <td>0</td>\n",
              "      <td>0</td>\n",
              "      <td>1</td>\n",
              "      <td>0</td>\n",
              "      <td>0</td>\n",
              "    </tr>\n",
              "    <tr>\n",
              "      <th>2</th>\n",
              "      <td>26.0</td>\n",
              "      <td>2.070022</td>\n",
              "      <td>0</td>\n",
              "      <td>1</td>\n",
              "      <td>0</td>\n",
              "      <td>1.0</td>\n",
              "      <td>1</td>\n",
              "      <td>1</td>\n",
              "      <td>0</td>\n",
              "      <td>0</td>\n",
              "      <td>0</td>\n",
              "      <td>0</td>\n",
              "      <td>1</td>\n",
              "      <td>0</td>\n",
              "      <td>0</td>\n",
              "      <td>0</td>\n",
              "      <td>0</td>\n",
              "      <td>1</td>\n",
              "      <td>0</td>\n",
              "      <td>0</td>\n",
              "      <td>0</td>\n",
              "      <td>0</td>\n",
              "      <td>0</td>\n",
              "      <td>0</td>\n",
              "      <td>0</td>\n",
              "      <td>0</td>\n",
              "      <td>1</td>\n",
              "      <td>0</td>\n",
              "      <td>0</td>\n",
              "      <td>0</td>\n",
              "      <td>0</td>\n",
              "      <td>0</td>\n",
              "      <td>0</td>\n",
              "      <td>0</td>\n",
              "      <td>0</td>\n",
              "      <td>0</td>\n",
              "      <td>0</td>\n",
              "      <td>0</td>\n",
              "      <td>0</td>\n",
              "      <td>0</td>\n",
              "      <td>0</td>\n",
              "      <td>0</td>\n",
              "      <td>0</td>\n",
              "      <td>0</td>\n",
              "      <td>0</td>\n",
              "      <td>0</td>\n",
              "      <td>0</td>\n",
              "      <td>0</td>\n",
              "      <td>0</td>\n",
              "      <td>0</td>\n",
              "      <td>0</td>\n",
              "      <td>0</td>\n",
              "      <td>0</td>\n",
              "      <td>0</td>\n",
              "      <td>0</td>\n",
              "      <td>0</td>\n",
              "      <td>0</td>\n",
              "      <td>0</td>\n",
              "      <td>1</td>\n",
              "      <td>0</td>\n",
              "      <td>0</td>\n",
              "      <td>0</td>\n",
              "      <td>0</td>\n",
              "      <td>0</td>\n",
              "      <td>0</td>\n",
              "      <td>0</td>\n",
              "      <td>1</td>\n",
              "    </tr>\n",
              "    <tr>\n",
              "      <th>3</th>\n",
              "      <td>35.0</td>\n",
              "      <td>3.972177</td>\n",
              "      <td>0</td>\n",
              "      <td>1</td>\n",
              "      <td>1</td>\n",
              "      <td>1.0</td>\n",
              "      <td>2</td>\n",
              "      <td>0</td>\n",
              "      <td>1</td>\n",
              "      <td>0</td>\n",
              "      <td>0</td>\n",
              "      <td>0</td>\n",
              "      <td>1</td>\n",
              "      <td>0</td>\n",
              "      <td>0</td>\n",
              "      <td>0</td>\n",
              "      <td>0</td>\n",
              "      <td>1</td>\n",
              "      <td>0</td>\n",
              "      <td>0</td>\n",
              "      <td>1</td>\n",
              "      <td>0</td>\n",
              "      <td>0</td>\n",
              "      <td>0</td>\n",
              "      <td>0</td>\n",
              "      <td>0</td>\n",
              "      <td>0</td>\n",
              "      <td>0</td>\n",
              "      <td>0</td>\n",
              "      <td>0</td>\n",
              "      <td>0</td>\n",
              "      <td>0</td>\n",
              "      <td>0</td>\n",
              "      <td>0</td>\n",
              "      <td>0</td>\n",
              "      <td>0</td>\n",
              "      <td>0</td>\n",
              "      <td>0</td>\n",
              "      <td>0</td>\n",
              "      <td>0</td>\n",
              "      <td>0</td>\n",
              "      <td>0</td>\n",
              "      <td>0</td>\n",
              "      <td>0</td>\n",
              "      <td>0</td>\n",
              "      <td>0</td>\n",
              "      <td>0</td>\n",
              "      <td>0</td>\n",
              "      <td>0</td>\n",
              "      <td>0</td>\n",
              "      <td>0</td>\n",
              "      <td>0</td>\n",
              "      <td>0</td>\n",
              "      <td>0</td>\n",
              "      <td>0</td>\n",
              "      <td>0</td>\n",
              "      <td>0</td>\n",
              "      <td>0</td>\n",
              "      <td>0</td>\n",
              "      <td>0</td>\n",
              "      <td>0</td>\n",
              "      <td>0</td>\n",
              "      <td>0</td>\n",
              "      <td>1</td>\n",
              "      <td>1</td>\n",
              "      <td>0</td>\n",
              "      <td>0</td>\n",
              "    </tr>\n",
              "    <tr>\n",
              "      <th>4</th>\n",
              "      <td>35.0</td>\n",
              "      <td>2.085672</td>\n",
              "      <td>0</td>\n",
              "      <td>0</td>\n",
              "      <td>0</td>\n",
              "      <td>0.0</td>\n",
              "      <td>1</td>\n",
              "      <td>1</td>\n",
              "      <td>0</td>\n",
              "      <td>0</td>\n",
              "      <td>0</td>\n",
              "      <td>0</td>\n",
              "      <td>0</td>\n",
              "      <td>1</td>\n",
              "      <td>0</td>\n",
              "      <td>0</td>\n",
              "      <td>0</td>\n",
              "      <td>1</td>\n",
              "      <td>0</td>\n",
              "      <td>0</td>\n",
              "      <td>0</td>\n",
              "      <td>0</td>\n",
              "      <td>0</td>\n",
              "      <td>0</td>\n",
              "      <td>0</td>\n",
              "      <td>0</td>\n",
              "      <td>1</td>\n",
              "      <td>0</td>\n",
              "      <td>0</td>\n",
              "      <td>0</td>\n",
              "      <td>0</td>\n",
              "      <td>0</td>\n",
              "      <td>0</td>\n",
              "      <td>0</td>\n",
              "      <td>0</td>\n",
              "      <td>0</td>\n",
              "      <td>0</td>\n",
              "      <td>0</td>\n",
              "      <td>0</td>\n",
              "      <td>0</td>\n",
              "      <td>0</td>\n",
              "      <td>0</td>\n",
              "      <td>0</td>\n",
              "      <td>0</td>\n",
              "      <td>0</td>\n",
              "      <td>0</td>\n",
              "      <td>0</td>\n",
              "      <td>0</td>\n",
              "      <td>0</td>\n",
              "      <td>0</td>\n",
              "      <td>0</td>\n",
              "      <td>0</td>\n",
              "      <td>0</td>\n",
              "      <td>0</td>\n",
              "      <td>0</td>\n",
              "      <td>0</td>\n",
              "      <td>0</td>\n",
              "      <td>0</td>\n",
              "      <td>0</td>\n",
              "      <td>0</td>\n",
              "      <td>0</td>\n",
              "      <td>0</td>\n",
              "      <td>0</td>\n",
              "      <td>1</td>\n",
              "      <td>0</td>\n",
              "      <td>0</td>\n",
              "      <td>1</td>\n",
              "    </tr>\n",
              "  </tbody>\n",
              "</table>\n",
              "</div>"
            ],
            "text/plain": [
              "    Age      Fare  Parch  Sex  SibSp  ...  T_WEP  T_X  Pc_1  Pc_2  Pc_3\n",
              "0  22.0  1.981001      0    0      1  ...      0    0     0     0     1\n",
              "1  38.0  4.266662      0    1      1  ...      0    0     1     0     0\n",
              "2  26.0  2.070022      0    1      0  ...      0    0     0     0     1\n",
              "3  35.0  3.972177      0    1      1  ...      0    1     1     0     0\n",
              "4  35.0  2.085672      0    0      0  ...      0    1     0     0     1\n",
              "\n",
              "[5 rows x 67 columns]"
            ]
          },
          "metadata": {
            "tags": []
          },
          "execution_count": 54
        }
      ]
    },
    {
      "cell_type": "markdown",
      "metadata": {
        "id": "k6zBzSmK8EXm",
        "colab_type": "text"
      },
      "source": [
        "## Modeling"
      ]
    },
    {
      "cell_type": "code",
      "metadata": {
        "id": "5lXy4JwaL4w4",
        "colab_type": "code",
        "outputId": "e8d79e22-a670-42e7-94d1-83cb7c0315d5",
        "colab": {
          "base_uri": "https://localhost:8080/",
          "height": 122
        }
      },
      "source": [
        "train = dataset[:train_len]\n",
        "test = dataset[train_len:]\n",
        "test.drop('Survived', axis=1, inplace=True)"
      ],
      "execution_count": 55,
      "outputs": [
        {
          "output_type": "stream",
          "text": [
            "/usr/local/lib/python3.6/dist-packages/pandas/core/frame.py:3940: SettingWithCopyWarning: \n",
            "A value is trying to be set on a copy of a slice from a DataFrame\n",
            "\n",
            "See the caveats in the documentation: http://pandas.pydata.org/pandas-docs/stable/indexing.html#indexing-view-versus-copy\n",
            "  errors=errors)\n"
          ],
          "name": "stderr"
        }
      ]
    },
    {
      "cell_type": "code",
      "metadata": {
        "id": "3Uy5NJ4cN_PR",
        "colab_type": "code",
        "outputId": "dff14133-7c67-4cbd-8dfe-116e698fa0cf",
        "colab": {
          "base_uri": "https://localhost:8080/",
          "height": 139
        }
      },
      "source": [
        "train.Survived = train.Survived.astype(int)\n",
        "\n",
        "train_y = train.Survived\n",
        "train_X = train.drop('Survived', axis=1)"
      ],
      "execution_count": 56,
      "outputs": [
        {
          "output_type": "stream",
          "text": [
            "/usr/local/lib/python3.6/dist-packages/pandas/core/generic.py:5096: SettingWithCopyWarning: \n",
            "A value is trying to be set on a copy of a slice from a DataFrame.\n",
            "Try using .loc[row_indexer,col_indexer] = value instead\n",
            "\n",
            "See the caveats in the documentation: http://pandas.pydata.org/pandas-docs/stable/indexing.html#indexing-view-versus-copy\n",
            "  self[name] = value\n"
          ],
          "name": "stderr"
        }
      ]
    },
    {
      "cell_type": "code",
      "metadata": {
        "id": "vQMX3hV2OMGf",
        "colab_type": "code",
        "colab": {}
      },
      "source": [
        "from sklearn.model_selection import StratifiedKFold\n",
        "\n",
        "kfold = StratifiedKFold(n_splits=10)"
      ],
      "execution_count": 0,
      "outputs": []
    },
    {
      "cell_type": "code",
      "metadata": {
        "id": "nLdguxOAOdvp",
        "colab_type": "code",
        "colab": {}
      },
      "source": [
        "from sklearn.svm import SVC\n",
        "from sklearn.tree import DecisionTreeClassifier\n",
        "from sklearn.ensemble import AdaBoostClassifier, GradientBoostingClassifier, ExtraTreesClassifier, RandomForestClassifier\n",
        "from sklearn.neural_network import MLPClassifier\n",
        "from sklearn.neighbors import KNeighborsClassifier\n",
        "from sklearn.linear_model import LogisticRegression\n",
        "from sklearn.discriminant_analysis import LinearDiscriminantAnalysis"
      ],
      "execution_count": 0,
      "outputs": []
    },
    {
      "cell_type": "code",
      "metadata": {
        "id": "i52bPQ5b3Mgt",
        "colab_type": "code",
        "colab": {}
      },
      "source": [
        "classifiers = [\n",
        "    SVC(random_state=0),\n",
        "    DecisionTreeClassifier(random_state=0),\n",
        "    AdaBoostClassifier(DecisionTreeClassifier(random_state=0), random_state=0, learning_rate=0.1),\n",
        "    RandomForestClassifier(random_state=0),\n",
        "    ExtraTreesClassifier(random_state=0),\n",
        "    GradientBoostingClassifier(random_state=0),\n",
        "    MLPClassifier(random_state=0),\n",
        "    KNeighborsClassifier(),\n",
        "    LogisticRegression(random_state=0),\n",
        "    LinearDiscriminantAnalysis()\n",
        "]"
      ],
      "execution_count": 0,
      "outputs": []
    },
    {
      "cell_type": "code",
      "metadata": {
        "id": "ax8h45DpAqpG",
        "colab_type": "code",
        "colab": {}
      },
      "source": [
        "from sklearn.model_selection import cross_val_score\n",
        "\n",
        "cv_result, cv_mean, cv_std = [], [], []\n",
        "for clf in classifiers:\n",
        "  cv_result.append(cross_val_score(clf, train_X, train_y, scoring='accuracy', cv=kfold, n_jobs=2))\n",
        "\n",
        "for res in cv_result:\n",
        "  cv_mean.append(res.mean())\n",
        "  cv_std.append(res.std())\n",
        "\n",
        "df = pd.DataFrame({'CV mean':cv_mean, 'CV std':cv_std, 'Model':['SVC', 'DTC', 'ABC', 'RFC', 'ETC', 'GBC', 'MLP', 'KNN', 'LR', 'LDA']})"
      ],
      "execution_count": 0,
      "outputs": []
    },
    {
      "cell_type": "code",
      "metadata": {
        "id": "cqy6CVdgBv5O",
        "colab_type": "code",
        "colab": {
          "base_uri": "https://localhost:8080/",
          "height": 295
        },
        "outputId": "d4ae537c-bc6f-4b0f-bb19-6f4bb1b787aa"
      },
      "source": [
        "sns.barplot('CV mean', 'Model', data=df, orient='h').set_title('Cross Validation Scores')\n",
        "plt.show()"
      ],
      "execution_count": 63,
      "outputs": [
        {
          "output_type": "display_data",
          "data": {
            "image/png": "[encoded data removed]",
            "text/plain": [
              "<Figure size 432x288 with 1 Axes>"
            ]
          },
          "metadata": {
            "tags": []
          }
        }
      ]
    },
    {
      "cell_type": "markdown",
      "metadata": {
        "id": "SW0xDn1sB4fB",
        "colab_type": "text"
      },
      "source": [
        "### Hyperparameter Tuning\n",
        "\n",
        "Choice : AdaBoost, ExtraTrees, RandomForest, GradientBoosting, SVM"
      ]
    },
    {
      "cell_type": "code",
      "metadata": {
        "id": "WoCOkH49CE7N",
        "colab_type": "code",
        "colab": {
          "base_uri": "https://localhost:8080/",
          "height": 102
        },
        "outputId": "9b03a573-3abe-4d4b-fe20-0d084158d97e"
      },
      "source": [
        "from sklearn.model_selection import GridSearchCV\n",
        "\n",
        "DTC = DecisionTreeClassifier()\n",
        "ABC = AdaBoostClassifier(DTC, random_state=0)\n",
        "hyper = {\n",
        "    'base_estimator__criterion' : ['gini', 'entropy'],\n",
        "    'base_estimator__splitter' : ['best', 'random'],\n",
        "    'algorithm' : ['SAMME', 'SAMME.R'],\n",
        "    'n_estimators' : [1, 2],\n",
        "    'learning_rate' : [0.001, 0.01, 0.1, 0.2, 0.3, 1.5],\n",
        "}\n",
        "\n",
        "gd = GridSearchCV(ABC, param_grid=hyper, cv=kfold, scoring='accuracy', n_jobs=2, verbose=True)\n",
        "gd.fit(train_X, train_y)\n",
        "\n",
        "print('Best Score : {}'.format(gd.best_score_))\n",
        "ada_best = gd.best_estimator_"
      ],
      "execution_count": 65,
      "outputs": [
        {
          "output_type": "stream",
          "text": [
            "Fitting 10 folds for each of 96 candidates, totalling 960 fits\n"
          ],
          "name": "stdout"
        },
        {
          "output_type": "stream",
          "text": [
            "[Parallel(n_jobs=2)]: Using backend LokyBackend with 2 concurrent workers.\n",
            "[Parallel(n_jobs=2)]: Done 257 tasks      | elapsed:    4.7s\n"
          ],
          "name": "stderr"
        },
        {
          "output_type": "stream",
          "text": [
            "Best Score : 0.8297389330306469\n"
          ],
          "name": "stdout"
        },
        {
          "output_type": "stream",
          "text": [
            "[Parallel(n_jobs=2)]: Done 960 out of 960 | elapsed:   11.9s finished\n"
          ],
          "name": "stderr"
        }
      ]
    },
    {
      "cell_type": "code",
      "metadata": {
        "id": "AT_FLYWKCyCa",
        "colab_type": "code",
        "colab": {
          "base_uri": "https://localhost:8080/",
          "height": 136
        },
        "outputId": "6f7a46df-1a39-4bab-e4d0-32e9f6a81d48"
      },
      "source": [
        "ETC = ExtraTreesClassifier()\n",
        "hyper = {\n",
        "    'max_depth' : [None],\n",
        "    'max_features' : [1, 3, 10],\n",
        "    'min_samples_split' : [2, 3, 10],\n",
        "    'min_samples_leaf' : [1, 3, 10],\n",
        "    'bootstrap' : [False],\n",
        "    'n_estimators' : [100, 300],\n",
        "    'criterion' : ['gini']\n",
        "}\n",
        "\n",
        "gd = GridSearchCV(ETC, param_grid=hyper, cv=kfold, scoring='accuracy', n_jobs=2, verbose=True)\n",
        "gd.fit(train_X, train_y)\n",
        "\n",
        "print('Best Score : {}'.format(gd.best_score_))\n",
        "etc_best = gd.best_estimator_"
      ],
      "execution_count": 66,
      "outputs": [
        {
          "output_type": "stream",
          "text": [
            "Fitting 10 folds for each of 54 candidates, totalling 540 fits\n"
          ],
          "name": "stdout"
        },
        {
          "output_type": "stream",
          "text": [
            "[Parallel(n_jobs=2)]: Using backend LokyBackend with 2 concurrent workers.\n",
            "[Parallel(n_jobs=2)]: Done  46 tasks      | elapsed:   10.7s\n",
            "[Parallel(n_jobs=2)]: Done 196 tasks      | elapsed:   37.5s\n",
            "[Parallel(n_jobs=2)]: Done 446 tasks      | elapsed:  1.5min\n",
            "[Parallel(n_jobs=2)]: Done 540 out of 540 | elapsed:  1.8min finished\n"
          ],
          "name": "stderr"
        },
        {
          "output_type": "stream",
          "text": [
            "Best Score : 0.8297389330306469\n"
          ],
          "name": "stdout"
        }
      ]
    },
    {
      "cell_type": "code",
      "metadata": {
        "id": "sCNXTGcgDUcj",
        "colab_type": "code",
        "colab": {
          "base_uri": "https://localhost:8080/",
          "height": 136
        },
        "outputId": "25a6ceeb-005d-44b0-ce8c-67e83828afd2"
      },
      "source": [
        "RFC = RandomForestClassifier()\n",
        "hyper = {\n",
        "    'max_depth' : [None],\n",
        "    'max_features' : [1, 3, 10],\n",
        "    'min_samples_split' : [2, 3, 10],\n",
        "    'min_samples_leaf' : [1, 3, 10],\n",
        "    'bootstrap' : [False],\n",
        "    'n_estimators' : [100, 300],\n",
        "    'criterion' : ['gini']\n",
        "}\n",
        "\n",
        "gd = GridSearchCV(RFC, param_grid=hyper, cv=kfold, scoring='accuracy', n_jobs=2, verbose=True)\n",
        "gd.fit(train_X, train_y)\n",
        "\n",
        "print('Best Score : {}'.format(gd.best_score_))\n",
        "rfc_best = gd.best_estimator_"
      ],
      "execution_count": 67,
      "outputs": [
        {
          "output_type": "stream",
          "text": [
            "Fitting 10 folds for each of 54 candidates, totalling 540 fits\n"
          ],
          "name": "stdout"
        },
        {
          "output_type": "stream",
          "text": [
            "[Parallel(n_jobs=2)]: Using backend LokyBackend with 2 concurrent workers.\n",
            "[Parallel(n_jobs=2)]: Done  46 tasks      | elapsed:   13.8s\n",
            "[Parallel(n_jobs=2)]: Done 196 tasks      | elapsed:   41.8s\n",
            "[Parallel(n_jobs=2)]: Done 446 tasks      | elapsed:  1.7min\n",
            "[Parallel(n_jobs=2)]: Done 540 out of 540 | elapsed:  2.0min finished\n"
          ],
          "name": "stderr"
        },
        {
          "output_type": "stream",
          "text": [
            "Best Score : 0.8342792281498297\n"
          ],
          "name": "stdout"
        }
      ]
    },
    {
      "cell_type": "code",
      "metadata": {
        "id": "0To0Q5buFdEG",
        "colab_type": "code",
        "colab": {
          "base_uri": "https://localhost:8080/",
          "height": 119
        },
        "outputId": "87cc826b-d3ee-4a2c-cf6a-1f5d3a34595d"
      },
      "source": [
        "GBC = GradientBoostingClassifier()\n",
        "hyper = {\n",
        "    'loss' : ['deviance'],\n",
        "    'n_estimators' : [100, 200, 300],\n",
        "    'learning_rate' : [0.01, 0.05, 0.1],\n",
        "    'max_depth' : [4, 8],\n",
        "    'min_samples_leaf' : [100, 150],\n",
        "    'max_features' : [0.1, 0.3]\n",
        "}\n",
        "\n",
        "gd = GridSearchCV(GBC, param_grid=hyper, cv=kfold, scoring='accuracy', n_jobs=2, verbose=True)\n",
        "gd.fit(train_X, train_y)\n",
        "\n",
        "print('Best Score : {}'.format(gd.best_score_))\n",
        "gbc_best = gd.best_estimator_"
      ],
      "execution_count": 69,
      "outputs": [
        {
          "output_type": "stream",
          "text": [
            "Fitting 10 folds for each of 72 candidates, totalling 720 fits\n"
          ],
          "name": "stdout"
        },
        {
          "output_type": "stream",
          "text": [
            "[Parallel(n_jobs=2)]: Using backend LokyBackend with 2 concurrent workers.\n",
            "[Parallel(n_jobs=2)]: Done  88 tasks      | elapsed:   10.2s\n",
            "[Parallel(n_jobs=2)]: Done 388 tasks      | elapsed:   45.1s\n",
            "[Parallel(n_jobs=2)]: Done 720 out of 720 | elapsed:  1.4min finished\n"
          ],
          "name": "stderr"
        },
        {
          "output_type": "stream",
          "text": [
            "Best Score : 0.8308740068104427\n"
          ],
          "name": "stdout"
        }
      ]
    },
    {
      "cell_type": "code",
      "metadata": {
        "id": "P_2qvpUiGCKh",
        "colab_type": "code",
        "colab": {
          "base_uri": "https://localhost:8080/",
          "height": 119
        },
        "outputId": "254e73b0-8cb9-4ac5-9100-9d705fef23f1"
      },
      "source": [
        "SVMC = SVC(probability=True)\n",
        "hyper = {\n",
        "    'kernel' : ['rbf'],\n",
        "    'gamma' : [0.001, 0.01, 0.1, 1],\n",
        "    'C' : [1, 10, 50, 100, 200, 300, 1000]\n",
        "}\n",
        "\n",
        "gd = GridSearchCV(SVMC, param_grid=hyper, cv=kfold, scoring='accuracy', n_jobs=2, verbose=True)\n",
        "gd.fit(train_X, train_y)\n",
        "\n",
        "print('Best Score : {}'.format(gd.best_score_))\n",
        "svc_best = gd.best_estimator_"
      ],
      "execution_count": 72,
      "outputs": [
        {
          "output_type": "stream",
          "text": [
            "Fitting 10 folds for each of 28 candidates, totalling 280 fits\n"
          ],
          "name": "stdout"
        },
        {
          "output_type": "stream",
          "text": [
            "[Parallel(n_jobs=2)]: Using backend LokyBackend with 2 concurrent workers.\n",
            "[Parallel(n_jobs=2)]: Done  46 tasks      | elapsed:   10.7s\n",
            "[Parallel(n_jobs=2)]: Done 196 tasks      | elapsed:   51.3s\n",
            "[Parallel(n_jobs=2)]: Done 280 out of 280 | elapsed:  1.4min finished\n"
          ],
          "name": "stderr"
        },
        {
          "output_type": "stream",
          "text": [
            "Best Score : 0.8331441543700341\n"
          ],
          "name": "stdout"
        }
      ]
    },
    {
      "cell_type": "markdown",
      "metadata": {
        "id": "QMGNrOmGGiD6",
        "colab_type": "text"
      },
      "source": [
        "### Plotting Learning Curves"
      ]
    },
    {
      "cell_type": "code",
      "metadata": {
        "id": "PU8UGJA-GmpC",
        "colab_type": "code",
        "colab": {}
      },
      "source": [
        "from sklearn.model_selection import learning_curve\n",
        "\n",
        "def plot_learning_curve(estimator, title, X, y, ylim=None, cv=None, n_jobs=-1, train_sizes=np.linspace(0.1, 1.0, 5)):\n",
        "  plt.figure()\n",
        "  plt.title(title)\n",
        "  if ylim is not None:\n",
        "    plt.ylim(*ylim)\n",
        "  plt.xlabel('Training Examples')\n",
        "  plt.ylabel('Score')\n",
        "  train_sizes, train_scores, test_scores = learning_curve(estimator, X, y, cv=cv, n_jobs=n_jobs, train_sizes=train_sizes)\n",
        "  train_scores_mean = np.mean(train_scores, axis=1)\n",
        "  train_scores_std = np.std(train_scores, axis=1)\n",
        "  test_scores_mean = np.mean(test_scores, axis=1)\n",
        "  test_scores_std = np.std(test_scores, axis=1)\n",
        "  plt.grid()\n",
        "  \n",
        "  plt.fill_between(train_sizes, train_scores_mean-train_scores_std, train_scores_mean+train_scores_std, alpha=0.1, color='r')\n",
        "  plt.fill_between(train_sizes, test_scores_mean-test_scores_std, test_scores_mean+test_scores_std, alpha=0.1, color='g')\n",
        "  plt.plot(train_sizes, train_scores_mean, 'o-', color='r', label='Training Score')\n",
        "  plt.plot(train_sizes, test_scores_mean, 'o-', color='g', label='CV Score')\n",
        "  \n",
        "  plt.legend(loc='best')\n",
        "  plt.show()"
      ],
      "execution_count": 0,
      "outputs": []
    },
    {
      "cell_type": "code",
      "metadata": {
        "id": "Ufx-v6eCNmUN",
        "colab_type": "code",
        "colab": {
          "base_uri": "https://localhost:8080/",
          "height": 295
        },
        "outputId": "e669eca7-5afc-4ad9-ffc8-ea272c400843"
      },
      "source": [
        "plot_learning_curve(rfc_best, 'RF learning curve', train_X, train_y, cv=kfold)\n",
        "plt.show()"
      ],
      "execution_count": 77,
      "outputs": [
        {
          "output_type": "display_data",
          "data": {
            "image/png": "[encoded data removed]",
            "text/plain": [
              "<Figure size 432x288 with 1 Axes>"
            ]
          },
          "metadata": {
            "tags": []
          }
        }
      ]
    },
    {
      "cell_type": "code",
      "metadata": {
        "id": "7QW3UHoGNw91",
        "colab_type": "code",
        "colab": {
          "base_uri": "https://localhost:8080/",
          "height": 295
        },
        "outputId": "ec1d62f2-6e5b-482f-b98b-18f9f57d55ed"
      },
      "source": [
        "plot_learning_curve(etc_best, 'ETC learning curve', train_X, train_y, cv=kfold)\n",
        "plt.show()"
      ],
      "execution_count": 79,
      "outputs": [
        {
          "output_type": "display_data",
          "data": {
            "image/png": "[encoded data removed]",
            "text/plain": [
              "<Figure size 432x288 with 1 Axes>"
            ]
          },
          "metadata": {
            "tags": []
          }
        }
      ]
    },
    {
      "cell_type": "code",
      "metadata": {
        "id": "AA0blp26N87V",
        "colab_type": "code",
        "colab": {
          "base_uri": "https://localhost:8080/",
          "height": 295
        },
        "outputId": "814a4c2d-8ee5-49cf-ea29-ebf9290b79e2"
      },
      "source": [
        "plot_learning_curve(svc_best, 'SVC learning curve', train_X, train_y, cv=kfold)\n",
        "plt.show()"
      ],
      "execution_count": 82,
      "outputs": [
        {
          "output_type": "display_data",
          "data": {
            "image/png": "[encoded data removed]",
            "text/plain": [
              "<Figure size 432x288 with 1 Axes>"
            ]
          },
          "metadata": {
            "tags": []
          }
        }
      ]
    },
    {
      "cell_type": "code",
      "metadata": {
        "id": "PuG850YlODnJ",
        "colab_type": "code",
        "colab": {
          "base_uri": "https://localhost:8080/",
          "height": 295
        },
        "outputId": "215501a2-a261-4d04-b509-365d37702949"
      },
      "source": [
        "plot_learning_curve(ada_best, 'ABC learning curve', train_X, train_y, cv=kfold)\n",
        "plt.show()"
      ],
      "execution_count": 83,
      "outputs": [
        {
          "output_type": "display_data",
          "data": {
            "image/png": "[encoded data removed]",
            "text/plain": [
              "<Figure size 432x288 with 1 Axes>"
            ]
          },
          "metadata": {
            "tags": []
          }
        }
      ]
    },
    {
      "cell_type": "code",
      "metadata": {
        "id": "ldSXqCRrOMHv",
        "colab_type": "code",
        "colab": {
          "base_uri": "https://localhost:8080/",
          "height": 295
        },
        "outputId": "2c777f2b-2756-4a1d-81b1-97bb2340b69c"
      },
      "source": [
        "plot_learning_curve(gbc_best, 'GBC learning curve', train_X, train_y, cv=kfold)\n",
        "plt.show()"
      ],
      "execution_count": 84,
      "outputs": [
        {
          "output_type": "display_data",
          "data": {
            "image/png": "[encoded data removed]",
            "text/plain": [
              "<Figure size 432x288 with 1 Axes>"
            ]
          },
          "metadata": {
            "tags": []
          }
        }
      ]
    },
    {
      "cell_type": "markdown",
      "metadata": {
        "id": "wOvAk8oiOTxl",
        "colab_type": "text"
      },
      "source": [
        "### Feature Importances"
      ]
    },
    {
      "cell_type": "code",
      "metadata": {
        "id": "bHZfO0o1OYbc",
        "colab_type": "code",
        "colab": {
          "base_uri": "https://localhost:8080/",
          "height": 839
        },
        "outputId": "43ec4f1b-03ea-46a7-de72-de20b9f8ce13"
      },
      "source": [
        "fig, ax = plt.subplots(2, 2, figsize=(14, 14))\n",
        "nc = [('Adaboost', ada_best), ('ExtraTrees', etc_best), ('RandomForest', rfc_best), ('GradientBoosting', gbc_best)]\n",
        "\n",
        "clf_idx = 0\n",
        "for row in range(2):\n",
        "  for col in range(2):\n",
        "    name, clf = nc[clf_idx]\n",
        "    indices = np.argsort(clf.feature_importances_)[::-1][:20]\n",
        "    g = sns.barplot(y=train_X.columns[indices], x=clf.feature_importances_[indices], orient='h', ax=ax[row][col])\n",
        "    g.set_xlabel('relative importance')\n",
        "    g.set_ylabel('features')\n",
        "    g.set_title(name)\n",
        "    clf_idx += 1"
      ],
      "execution_count": 86,
      "outputs": [
        {
          "output_type": "display_data",
          "data": {
            "image/png": "[encoded data removed]",
            "text/plain": [
              "<Figure size 1008x1008 with 4 Axes>"
            ]
          },
          "metadata": {
            "tags": []
          }
        }
      ]
    },
    {
      "cell_type": "code",
      "metadata": {
        "id": "ieCQbEjWPEZL",
        "colab_type": "code",
        "colab": {}
      },
      "source": [
        "test_survived_rfc = pd.Series(rfc_best.predict(test), name='RFC')\n",
        "test_survived_etc = pd.Series(etc_best.predict(test), name='ETC')\n",
        "test_survived_svc = pd.Series(svc_best.predict(test), name='SVC')\n",
        "test_survived_abc = pd.Series(ada_best.predict(test), name='ABC')\n",
        "test_survived_gbc = pd.Series(gbc_best.predict(test), name='GBC')"
      ],
      "execution_count": 0,
      "outputs": []
    },
    {
      "cell_type": "code",
      "metadata": {
        "id": "H-IBlRJhPUOo",
        "colab_type": "code",
        "colab": {}
      },
      "source": [
        "preds = pd.concat([test_survived_rfc, test_survived_etc, test_survived_svc, test_survived_abc, test_survived_gbc], axis=1)"
      ],
      "execution_count": 0,
      "outputs": []
    },
    {
      "cell_type": "code",
      "metadata": {
        "id": "j8TbNSyQPgUV",
        "colab_type": "code",
        "colab": {
          "base_uri": "https://localhost:8080/",
          "height": 378
        },
        "outputId": "fa24dd89-ad17-44b0-c178-6752b5e6e484"
      },
      "source": [
        "sns.heatmap(preds.corr(), annot=True)\n",
        "fig = plt.gcf()\n",
        "fig.set_size_inches(8, 6)\n",
        "plt.show()"
      ],
      "execution_count": 91,
      "outputs": [
        {
          "output_type": "display_data",
          "data": {
            "image/png": "[encoded data removed]",
            "text/plain": [
              "<Figure size 576x432 with 2 Axes>"
            ]
          },
          "metadata": {
            "tags": []
          }
        }
      ]
    },
    {
      "cell_type": "markdown",
      "metadata": {
        "id": "afcC3paTPk2t",
        "colab_type": "text"
      },
      "source": [
        "### Ensemble Modeling"
      ]
    },
    {
      "cell_type": "code",
      "metadata": {
        "id": "ym_QD8iEPp_9",
        "colab_type": "code",
        "colab": {
          "base_uri": "https://localhost:8080/",
          "height": 578
        },
        "outputId": "1a32b6c4-61b3-4a14-891d-5c76b8df2976"
      },
      "source": [
        "from sklearn.ensemble import VotingClassifier\n",
        "\n",
        "model = VotingClassifier(\n",
        "  estimators = [\n",
        "      ('rfc', rfc_best),\n",
        "      ('etc', etc_best),\n",
        "      ('svc', svc_best),\n",
        "      ('abc', ada_best),\n",
        "      ('gbc', gbc_best)\n",
        "  ],\n",
        "  voting='soft',\n",
        "  n_jobs=2\n",
        ")\n",
        "\n",
        "model.fit(train_X, train_y)"
      ],
      "execution_count": 92,
      "outputs": [
        {
          "output_type": "execute_result",
          "data": {
            "text/plain": [
              "VotingClassifier(estimators=[('rfc',\n",
              "                              RandomForestClassifier(bootstrap=False,\n",
              "                                                     class_weight=None,\n",
              "                                                     criterion='gini',\n",
              "                                                     max_depth=None,\n",
              "                                                     max_features=3,\n",
              "                                                     max_leaf_nodes=None,\n",
              "                                                     min_impurity_decrease=0.0,\n",
              "                                                     min_impurity_split=None,\n",
              "                                                     min_samples_leaf=3,\n",
              "                                                     min_samples_split=10,\n",
              "                                                     min_weight_fraction_leaf=0.0,\n",
              "                                                     n_estimators=300,\n",
              "                                                     n_jobs=None,\n",
              "                                                     oob_score=False,\n",
              "                                                     random_state=None,\n",
              "                                                     verbose=...\n",
              "                                                         max_leaf_nodes=None,\n",
              "                                                         min_impurity_decrease=0.0,\n",
              "                                                         min_impurity_split=None,\n",
              "                                                         min_samples_leaf=100,\n",
              "                                                         min_samples_split=2,\n",
              "                                                         min_weight_fraction_leaf=0.0,\n",
              "                                                         n_estimators=300,\n",
              "                                                         n_iter_no_change=None,\n",
              "                                                         presort='auto',\n",
              "                                                         random_state=None,\n",
              "                                                         subsample=1.0,\n",
              "                                                         tol=0.0001,\n",
              "                                                         validation_fraction=0.1,\n",
              "                                                         verbose=0,\n",
              "                                                         warm_start=False))],\n",
              "                 flatten_transform=True, n_jobs=2, voting='soft', weights=None)"
            ]
          },
          "metadata": {
            "tags": []
          },
          "execution_count": 92
        }
      ]
    },
    {
      "cell_type": "markdown",
      "metadata": {
        "id": "Yv5drvwGP45j",
        "colab_type": "text"
      },
      "source": [
        "### Prediction"
      ]
    },
    {
      "cell_type": "code",
      "metadata": {
        "id": "8SfY3MiKP6Mr",
        "colab_type": "code",
        "colab": {}
      },
      "source": [
        "test_survived = pd.Series(model.predict(test), name='Survived')\n",
        "result = pd.concat([IDtest, test_survived], axis=1)"
      ],
      "execution_count": 0,
      "outputs": []
    },
    {
      "cell_type": "code",
      "metadata": {
        "id": "4ax28lkdQCP1",
        "colab_type": "code",
        "colab": {
          "base_uri": "https://localhost:8080/",
          "height": 204
        },
        "outputId": "bffe2cdd-5c31-4367-d86a-6061e7089c7f"
      },
      "source": [
        "result.head()"
      ],
      "execution_count": 94,
      "outputs": [
        {
          "output_type": "execute_result",
          "data": {
            "text/html": [
              "<div>\n",
              "<style scoped>\n",
              "    .dataframe tbody tr th:only-of-type {\n",
              "        vertical-align: middle;\n",
              "    }\n",
              "\n",
              "    .dataframe tbody tr th {\n",
              "        vertical-align: top;\n",
              "    }\n",
              "\n",
              "    .dataframe thead th {\n",
              "        text-align: right;\n",
              "    }\n",
              "</style>\n",
              "<table border=\"1\" class=\"dataframe\">\n",
              "  <thead>\n",
              "    <tr style=\"text-align: right;\">\n",
              "      <th></th>\n",
              "      <th>PassengerId</th>\n",
              "      <th>Survived</th>\n",
              "    </tr>\n",
              "  </thead>\n",
              "  <tbody>\n",
              "    <tr>\n",
              "      <th>0</th>\n",
              "      <td>892</td>\n",
              "      <td>0</td>\n",
              "    </tr>\n",
              "    <tr>\n",
              "      <th>1</th>\n",
              "      <td>893</td>\n",
              "      <td>0</td>\n",
              "    </tr>\n",
              "    <tr>\n",
              "      <th>2</th>\n",
              "      <td>894</td>\n",
              "      <td>0</td>\n",
              "    </tr>\n",
              "    <tr>\n",
              "      <th>3</th>\n",
              "      <td>895</td>\n",
              "      <td>0</td>\n",
              "    </tr>\n",
              "    <tr>\n",
              "      <th>4</th>\n",
              "      <td>896</td>\n",
              "      <td>1</td>\n",
              "    </tr>\n",
              "  </tbody>\n",
              "</table>\n",
              "</div>"
            ],
            "text/plain": [
              "   PassengerId  Survived\n",
              "0          892         0\n",
              "1          893         0\n",
              "2          894         0\n",
              "3          895         0\n",
              "4          896         1"
            ]
          },
          "metadata": {
            "tags": []
          },
          "execution_count": 94
        }
      ]
    }
  ]
}